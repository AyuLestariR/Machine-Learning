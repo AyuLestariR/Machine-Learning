{
  "nbformat": 4,
  "nbformat_minor": 0,
  "metadata": {
    "colab": {
      "provenance": [],
      "collapsed_sections": []
    },
    "kernelspec": {
      "name": "python3",
      "display_name": "Python 3"
    },
    "language_info": {
      "name": "python"
    }
  },
  "cells": [
    {
      "cell_type": "markdown",
      "source": [
        "## ***Nama Kelompok***"
      ],
      "metadata": {
        "id": "BP0vUaXed0Xm"
      }
    },
    {
      "cell_type": "code",
      "source": [
        "print(\"Aulia Insani. H - H071201003\")\n",
        "print(\"Ayu Lestari Ramadhani - H071201007\")\n",
        "print(\"Selviyani Jusbar - H071201008\")\n",
        "print(\"Nabilah Luthfiyyah - H071201038\")"
      ],
      "metadata": {
        "colab": {
          "base_uri": "https://localhost:8080/"
        },
        "id": "etLpLgC8d3ll",
        "outputId": "8ba5aa79-e6a7-4911-d0f8-f2db6e11763f"
      },
      "execution_count": null,
      "outputs": [
        {
          "output_type": "stream",
          "name": "stdout",
          "text": [
            "Aulia Insani. H - H071201003\n",
            "Ayu Lestari Ramadhani - H071201007\n",
            "Selviyani Jusbar - H071201008\n",
            "Nabilah Luthfiyyah - H071201038\n"
          ]
        }
      ]
    },
    {
      "cell_type": "markdown",
      "source": [
        "## ***DATASET FORESTFIRES***"
      ],
      "metadata": {
        "id": "S-__kDR6xEWu"
      }
    },
    {
      "cell_type": "markdown",
      "source": [
        "![Screenshot 2022-11-04 071401.png](data:image/png;base64,iVBORw0KGgoAAAANSUhEUgAABDMAAAC1CAYAAABCkbRtAAAAAXNSR0IArs4c6QAAAARnQU1BAACxjwv8YQUAAAAJcEhZcwAAFiUAABYlAUlSJPAAAF6kSURBVHhe7d0PcFXVvTf8b18fpJSnA7448SpcEXvfWDTBNjYgDMcKFIwdcktLLOCEP69BHUxzw0VvGMwTEfMAY4pcIgVG5XgFMgIaLN5kagoCPoYRSa6pJrGUzFWMBXk4I2/DtSlFHqbvWvvP2Wvvs/c5eycnJznk+5nZ5PzZnLPP/vNba//2Wmt/428CiIiIiIiIiIjSxP9l/CUiIiIiIiIiSgtMZhARERERERFRWmEyg4iIiIiIiIjSCpMZRERERERERJRWmMwgIiIiIiIiorTCZAYRERERERERpRUmM4iIiIiIiIgorTCZQURERERERERphckMIiIiIiIiIkorTGYQERERERERUVphMoOIiIiIiIiI0gqTGURERERERESUVpjMICIiIiIiIqK0wmQGEREREREREaUVJjOIiIiIiIiIKK0wmUFEREREREREaYXJDCIiIiIiIiJKK9/4m2A89rRmzRrjERERERERERGR3e9//3vs3bvXeNb3fCczVq9ebTwjIiIiIiIiIrJkZ2ejra3NeNb32M2EiIiIiIiIiNIKkxlERERERERElFaYzCAiIiIiIiKitNLjMTNkfxgiokRuv/1220BAjB2DB7c90cAzGI5Lxh6i1OIxN3i5bftUjpnRq2TGm++mbkGJKD3tet4eP1Id5Kj/OMsOlhtE/W8wxGTGHqLUYl1v8HKLtxwAlIiIiIiIiIjIA5MZRERERERERJRWmMwgIiIiIiIiorTCZAYRERERERERpRUmM4iIiIiIiIgorTCZQURERERERERphckMIiIiIiIiIkorTGYQERERERERUVphMoOIiIiIiIiI0gqTGURERERERESUVpjMICIiIiIiIqK0kpJkxvkD5cjNeyDOVI6GL42Zey2Choow2oxnSfdxuI+Xvx0vVzTgvPHMr7btzmUSk8fnqNvj5Y+NF68afbv9k7nu5GfZPuPLBpQZn527vd14kSL15Rg16QFtWlwfMV511/lasTFvOWrjz+ohgtp/Fv//nxvEI0ukKYwa2yYx5psURrPxSqo1b+7N7xS+OoXamqO23zmgqMdDnvsxbcW9ZMbgHrqKjt+Y8sSzTJLx1pyvD8tdV31c1pMnK866TJvj7/utOx6Oia+SHs/iT4nif19x1mGvvnoTUf9T63ox071LMKdkPcJNjhjwUVh7f+NHxvNUMr67r+OSHhv7r66ZDgZIy4wOVBQ+gLIDvdwhtMpkMSr6aItrFbzHG4xnqiQtv5YoWYNtxlNfjOTKQ7XGc1VzGHmDqeDt4+2fPPoJQN7GDuM5+VV/qCXOyfdpNP6mDwoVUWCNLxGV7yvG86tCBLVPleHRD/5sPB/oGvAQE3wpIU/cYsqTsWMwyng4IKRNrL8aXcbnn4k4O2wciovy8Ixzyh5pzBfrkoilZVu7jGd2Gdkun6VNUzFb2/mG4Ib/PlybN7UiaG60l9XbjjEWEfWVCaHpsXHgx+Pw144WlJUsx5xwOy4Z8xJJA6qbyZGNxb048RYniNVhHDGeJd3HYfeEgeLIxupeXB1sx8uuiZI4ZIXOx//Z9vgAuGrZ5/p4+xtGzVqL5obXtemhO4wXAzp/oNq9En59HqqMz25emmW8SKbQ+AzgveNocq8LA581ofbEcEy40XjepzJQ8K+v4/zxIuQar6Rabon8/rUoEKtlUKjdPQjiWP/74nPzxC0TlTUDMR6lJtaTl3Po/L34E/pHPP5IEYqd071j9NkcLrTvxOLSBs+ri2PvdfksMcldr+m8iHeFT6Ly3n5IZnzZgsPOha49zhZBRH3k5nvnxsaCstVo2L8KK268jMYX9+GgVz0wle4sEnWw17Fj9mCphA1cKU9mLHvOqBxFpy2oVM4Gtu0J3sUiFdqOWUmDaSu22H7DywXGG7KFxv5UZewdFbrcIjQoy9RcU4RpxlupXS6ivnHPj2cghHa8+0G38Ypd5wfvovHG6SiYYbxAVxnGsb4XwZlO4yFuxejrjYdEpq8+Q+sJYMI/ZGCE8VJcVyJoDJdhWlEdPvpBJmYbL/ty8TjWPnkUkVvyUPVoFoYaL6fS+ZZGo56ViWUFmdoj2VKsmV1NiFJrWA4KH5SJA+96IA1OA6BlRgbyKpWERnMjmh1X31zHg1CbHMc0OW3AQ9p8an9avWm/83OCdw3Jw8JZ9ixc9hwlcdB5OiYZ4+xvGdO32Nm9xOge4t1PWVCvFshERmWevRmwvMpvJDS0BFKcK2vO9eveOsbn+lPGFCk70G77P9bnBt0W7XjZMa9t3fR0+7s1W0+w/N5jZrgso5jsv0lfBrV7ybbHlc/Sfofxf12WLXY/ct9WbvO592dXlrkH47Sk3G1ZmHkjEH7nd7hgvGSRXUzOYMJP78ZE45WoSAMWe/Rr1Ptoeo87ofVVfERPZK59RPZbNOe1j5mh9yFfgi1uPYdO12G++P5pO6w3L3QcxsaVxci7T36GnB5EnuwP+oHjcoPWJ1N85ycdCD+xBOPFvDlF29AoNpbrmBlfnUL95jWYM+9B43PF/PPKUFbTggtmNxltfRTj0ffE4/fC2mfa+rnLk4+a9Zifb3zGfQ+jdPNhdFw03u9PtWtc93mbOMeR+/FrHQfa8arEAG2KfobjGE90zDg+J0h8c5vXNj7Ix8pv9DVWhVvMdfw/X3HUJ+c2UJ/LyXXd+YihvpbRb/nijH/O7/f63T7WZZS/bSu51nMSraf+iNtnP9ViXu6Y0frzBCJvVWPOi6eQMXsZGp5dgDuN1/1ofW07tlwcguLS+ZhwrfFiSildTHJD+MnSBVimP/O88ObvOPW/X8TEI21y29/6eb8gSoFh39K7sZ276Ehm/J9udNRXR+st4/OX46n6U456j6jPVB136aLSjYMipo+asxOtxvx6He1h5Mj/I6aYepTkNWaGUQ8z63c589Zg44FTMd8badqNspJiTL5Xn08bF2TlNtR/wkRNUAOkm0mGKCfMjHcHvjhnPDQqDa7dO0Sl1n/AlkHevX+t7NrielLrcNPNVkb+IWdBonYPcCQVZMEWOzaC/Izedf2wrhYAy+Y7EhkmY7nidYeQJ9PO9Stfiz1RD77+jmxco/yfPORqyxHws7SC3GUcES3h41WBdPL4zgT7kPvyu9Aq2O5jncjf5FlJ8S02CWKS20r9fPf9TXLZb9NOJkI/HQ4c+ACtXxsvmU7/DvXtw1Ew2TxOkyPzx6uwf7meCCxcLh5vXoB7XLqEj52Sh5miQKw9FrvuO99rwEER44p+qC/bhXc2YNrCbXjpT+NQ+Lj8zFXYUTYJN8j+oI/9i0tC5Ay2P/k06kbNxfObl6F4Wg4muB3wXUdRVlCGxfu6MeHnS7XP3V+5ALMzTiO8eT3m1RgfPDIHj4vPWTFePB4/HTvkfD82moZfbMfGJcsxZ3Mbhs5ahD1y2Rbeis592zB5SRjN/ZXQyM2MJoz7svWeFoOcXfe0OFEee4zLGOQVP+T/cXyOa3zziB3x4qrWQuVxpVVewSRkGw9dxSQATHoiIGFyqLfkuih0dAuR6079fUmLoT0s67XyxPn9Yv04t2/cdeko031v2zj1nHj7WD+58MczaMVwjOg6blX2RSV8/tO70ey2oNeOwTObt4jfOB1jrzFe80OcfDwnx9eYsgi/mNIfY2UI6kUjbdyYLOSaLXFdLrzZeRynAY55Lfnq2pW493VIovTTjZO/PyX+DsfETPtF5QNVyzF58xlMfPQx7N9QhIdviWBLZZlV78m4Gw/IVrv73keTs/4oYln9AWBC/t2YIGLUpfYw5ok6Ws1fcvDkBllHE/WuzG7UiXrU3c+5JUMUZxvwaL6sh0Vw28Jl+v+95TTWijpEdFmE1ppi/LDkDbR+axIer5TfUYoXHrwNOH4Yi4ueHxjdaNLIgBkzY9ToW41HwB/OGBWXj+uilQare4pLKw7tpF3trpKHl7V5i7TC4/yB3UbBofQBblgdzbD76f84apaVkTcrgWaWPF5G3aygWMtvfq8o6KqNSsodRfblMbuMOFtbuMrETTcYD3vEXFdiei7PeE2cMCgDXPV8/anz92RbiIpptCC3ltPq1iO2gyz8E2z/tu1mxcHlt4rK4rOeFeXY5XdjSyy57KfWWCqyFdLraFhhnXCb88dLOKljbES7OCndiKzPb0ezWSFWux1Ft6uxvtLYhMnTMQFHcfA/Lhuv6DqPH8LBG6cj9B3jhSQZ8Z0chG7XT/TH3i4eT8xChtsVwjHfx+wsUUD9+n1R0VcZg5Jm5SF0i3wewcFDJ4Eb87F32xMonCU/Mwez55Zix9afIYQu/Ood5zbqRvN3lmLHqnzMnDgdRYWTXJt3dx5r1E4yntlWhWfminUhPjc062d4ZtNaVI0Xu/q/yfeFazMwQfyO264Tj68bh4lyvu/oGZrW16qxtuNarNj6EnaU5InvE8tWKAra3Ysw+7MGLNqaoCDvK2MXYGH0JCLeMdt7bscYmjtwJHpMxW9JaLK6I6rxTR33Q5zEml0FleM1Gh9q47RCUY/vuONZKN/hEXO3iRMuLeYmiKO94bpOlVjvO4b2ZVlfsDp2ftv2dV+XVjxXyvQg21Y9YY4ugzJvH+/vQXV+ItdgNzZu3ofO7AWoNirhf33nDeTNLUftWX0+U8YsUZmfGLxPeWvdHtSLeFa+ZIYoOfuHbb+crB9n2ZPN8rQDh1sSbJeY4zTIMd+ON80LE277hZ/vJ7paXDwtyo8NKN0n6n5Z/4jZjrpeM+5Gw/4qrJg9FaFQHlZsehrP3Chej9bJRiJ0rzwGY+uPF5oaUSNiTYFxUb31bTm2z3S8sGmZeE3W0US9q7IKL84dgpFtLWj6SpvNRRfqN4dRezETL+zegupCWQ8T//fZTdg/F2jcvBv1MknxdQsaf9sNzFiGvc8uMr5jKgoeWYW9lZPEb21B7TFmM4IYUAOAxtBO8vUAbp3sZWD0WOOhT9agjWuRF+0DnIGbohUiP7LwkG0cCouWUY9p2icKrT3GibgotH4SXX7xOdET6USZfW/WIG29M21FvlVRvWOSVYlTusv0eP0VLFDm1wX5LKtiKiu4VoU62+jWo1V6Ew1M92UDdhkn+PbfWhRNihxpbHG/8uWy/G7UbWElgfTERexvDUqp0Ij9aKXZxUlU6rWTO61CZHz+l6fxB+1NQd23lOPIvr7Evmi+7itxNgB8524UiALq9WMtykl1BM1Hz0Sz6v1jDGb9VBSEZw/DNvC9NigpMPPH34cetjJQUPkSWvYvil3W72TjHvEn4pItmD0xK2H/9LH3r0LDb19BsWxxobpmHCbcJf5eRPxExJV2vP1v8krofDx8l+NK6I15WCoK48hrLlc1UsQ87qUjG+u8T0p7RelGeH0Opkfjkjh5LTWPEbUMUlsSKtRjVY356gmImqxXWteNmlUaPVn3umuCZ2s8J+U7pq0oVeKQukwiRvblybJb3NJ8ijNGjEpWDO15WZ+Hl6OxMQs/UU4Yo9vXY12aFzq0hI0ZR4Ns23NnoifMarJFHWy6yta1tT/jdhfOdQ3H2GFqZd2ohFfnIfdiBx79H3WIDrvSU18fR90uUdnPmou5dw4xXkw19S4mSstMpZ7kWXcwxByngY55ZTsr5bZ64c8uDctzIhf1lS63fr73n5G3uR0XMydhz//8WUwrr9Dc+5A7zHgiXZOJibIlxtk/4YJRZxkxeQaKxN8tR9X6Yxca5QUkEWtmm2Ffcxqttu4ewxEqexXHdi1D6NvGS07n30fdIVHiFC7Q6qkW8X/vm4GxGRF89HvxmdfmoHjXKzixbnpMvW7obVnauEJ/vdJPFa00NbCTGU5G38FEdxVJRO837d4UNS7tqpAsLNQrQwpbk9AIvjA/X76utOSwmg16VIRT6Luj1UqSP37X37SbE392vM9SR9W3tT4xtoOvu4koFcVo0smYovtR8xl8YTxU+Vl+ybpSI8gm1dHvSEK3DjVB4bg9YvZSR6XFdvLVod0u2FyW3nd1GSBEARXKH45InXJSHWlB3XvDUTDFVhKlXMbUGSiUXU2UbEZn0yE0iv23IBQ7wv+lryLo+KgFjQfewJZN67F43jqsNd5zGpshm1H49HU3Ip+1o7HpMGpe3IaykofxaI3xXjznT+Mj2Y1k2F9wskksl21qQ+cVmeDoQKfbwZIK4rhfGT3J7KMT8NzRuMl4aGcfDNPqdujBeSvTG0ZbiZjP9eU+f+ZT7a9kjp2jT0o8dBmDKSYexmENXJ2J6TmOeBbgpKxXfNzWta9iqO+y3nO7W9TtZS839ZNINeEQaNuqFxEcrT77vAtQYCMxs+wltLyz1lFZF5XwOxehfK540N6IZkfrjKAuNB7GRhGLZv90kpEE7ge2FjNqVy6/XU1ij9OeH/OS7EIl5nXtdkJ09XC9NWvZMux/ZQs+fOUJbew0p8xRXnWkCM6ZjRy+PQn5MkapXU26WnDwkHrBSXz/j/KQK+o6ZQuXaGNvlL3YgIMnIriU6Pb8p89AnlZMHOdy7nBnEVrqtqDc0WXuUtdptIo61sH63dhStQZzinai3niP/BswyQw1yKtsg2L1OIhHbAN2uY8pEIR6xUhMtubIwVpbRLvUBGRVplPR1DCZ6y/Z2yIZrCuEPXJHkdL0U2VUTFPW51nul0oTaYWZyBl4lePgJvwghIyLx9F8Qn8eaWpEvexi0r+5DG0sipkzZPPo941BpIwuJjNmYKZatp1vwZaSB3HTj4ox+ZH1mFNRi5oPvsbYn8tkiLuRw31cnbzSheZwGXJCogCeJwrFkm1YW9eOS39/Pwr93OHl7Bm9ED20W/xfsVyOqXS/vEoRQSR29NWUUbv7ya4Hu3p9CbhvxCRCrx+D7xoPA/FItF51khZDB2L54iG6bbM8W33qJ7zpMjbCENycOU78PQUjX9dD3Wh6p0X8zUR+D7qnJEvbfrNLkWBLsKkX1DqSf4cl9Zi3Df7pPqYM0dXG9dassuvs+AwM9Wh9+3fX+xlXZwgm3jtV1JStriaRo4dQ47jgNDSrCG/uK0XV/aMx8qszCIfDmL+kGDfNKNYGFU1GV9tLnzTgqYWiHnjfP2OaqF/Nr6xD3R+vxcyCSQgZ85B/AySZoTbns64gyasqaisMsy+tNWaCP23b1SszZl9Xj9YVbrQBm4wCxW3MAdsVQ5fWFlpXACX5oUz25qP+jcoJWVf6vK6qGcvd26vyvV5/imR+VlBWH3bn1JtuILpok2C3SmlK+zxbTU3djpNo//h0ljUJDw+7jJfelcdiBO8e6uhxF5OLf0lmv8SRmDl7qtXVxOhiUnhvjtWU8EoHtjy2Hk81DceKyiqcePtVnD8umy6uxjP5ibuSxNNa8y/Ik3cN+PkyHKt7BV+89zpO1G1BdVk+cl0GLY2RkaE1b5zw2Frt3ule04ogtyNIOrF/K102jkRjycBitr6IUltYubDGiXBOvR+vIl0kI4b2Z/nixde2jdvqUx2LY2C45DUQ8Ncy4TkE6E13vysn0XRA/J0Swj39lstQxp9KJN44LHEk3C9k/U29gGeOmxGNf0QU1NDv3Y3CYWZXE73+GHPBSRg6ZiqKnt6EY4dexad7V2NHSQ5mDpWDipZjQ5N9zI3Auo6ioiiMLX8ch6oX/xWfviPrVq+iYfMqFP/w742ZKIgBkcywVUByQ8jVTizt/RXlIF++uhXEcA6K2IMTV/WqWu2a2OSAKHSejbkCpPTT7Yura2qXAlv3FlM7XjZGkNeuyve4dUAS1l9UsM9SW5/YE0R6c0tfSRqX5t19KloptVc6evzd6r7naH6qN6H2Tk5o3VC0ZVEryL1shTIQXJOF0NwhiBxqQev5djT67GJy4S/OPoiX8flnyd0nhv7gbqwY1o3apg6ji0kOZk9WMgmfvI/az8TfBctQPmscMr6ttLj4Qt4loKc60PhrmZiZjsrl05GZMVy5gnEOnb83HsYzKkNrZtn64aci+jpdRmPVg5i8sBoH+/us6o58/yenjmMmWWMNJeRsKq50dzNbbbgOep1kcQcr/Ph49ErvtFDOwOlj3+MYmsyyKpb39jJagygXOnq+bdVWn+pApAOkhc5XR1E26QHc9GSDS4zoQtuH8tVJ8uZDPfdJO94WfyZ871axNvqJcmwk1oBmny0eg+wXMYPiJhofjIgSu3YS8hcO17uanJX1R6BohjqoegfCSx5GTsVRaI1QrxmCEbdkaQOh76nKEzHpMjoif9LmjHHjaO2CUNMpl2P7bB0W3/cwHt13Chc+aERYdqNbXoqiO8dghDLWx6Uv/ijqjRRUypMZ9n6C+mRrfeE6sJlyAqbcISQwpUKg3iEiMXVAMCM5oP4G223nzIGi1NvNqneRUJvB9uYquaj0lKrdWxzjctiaJKqD1/VCj9efCx+fpTYpV1sUmAOD+krSqEkfdaTwRK1tfFO3p705sNp1yu/4G7GUfc92ddIcGFRvhq39LrVJqu03KeO32Pr+G31w5ZSyrjDJkXvPDGScPYza8HHUJOpiMvI67SS98cMOvXAynT2Emt8Yj324+H+MB/Fcm4N78oeg9chubJRdTOZOxz3qYFHX/ne90PzqL/amile6UP9KrV6IXezuQTPGb2GEljPpRpcjZ3PhwC6s1brk/Bl/deZzLl2W44LqxLLnF4pC/r09eKlJHfhKOLEba/eJQvzvszGx3896RewT5YQnNQGodvvrTdkRlONYte7KpIxdoY5ZEb0jkaAcx70e68brO2zLpAx62i/6IIYms6wyKUk0+/YyBnXUuiIY5VSAbasnpV22t9qaxzamRz/G7W9nQYReESP2oeYje4y49MFuPHcImFA4AxPd7vjkU+STk1pSN/T/yC4r/cMaayZOCwol0eY1UG+MHh7zVuJDPW6d0rc8J0qlCVPkXfGO4+CuFtRgKvJDaheVccjM7kbngbdw0DH2z6X/+pOWxL1hmEeXFuP2r5F9u2Pu6tTZeAj1XZcx4fZx+Oawb2mvXRB1PZuLHdgePqo9jL34RvEMqAFAZTcA9a4lVjJAGczQFsjVK/bqCPPmIFqyYqEM1hR93dmXNvHVanW0aW+yWavVdNT2f6J9Lq1WKLa7a4jlt1pyGImJhCfqeajy0eTQPop9UMlZf7qgn6U2KXebX03SeG1/e9InmkyLJqDEZ8zpzRUP9fPtg25GlzNXvbOB/eqMuTzxxrJQ9yMrkaYkqwpW68eNcocWex9fa171rjBpbXwWCod1Y8u+FmTMyInfxcQ8ST+0DfNW7kZ9Uwvq91Vj8ZKdwA/iZUEMI67T+jDW7N6Ng03tiMQtY4Yg9KMZyDjRjpoTQ7Di3hwMNd7R3DIVhVPE3/qtWLypQXyeHPhpJ0qXPIZ/+eQ2FMg7kcjRt7WZgxiDWQXytxzHP5VuQ21jCxobG7Clohh3rzuNWSG5/ykDYeE63CAH0frg31FTL+b9RL4xBLlLn0D5Ld3YWPIwFm/Wl6++Zj3mLKtDs7yDQUns6Nv9Qt3XY6hxxqvs6Hvux6p6hyR7l5nY5UxGkkEdj0GNTwMpJgSNoX1b1nvzWE5lv7LWpf9t6x7fxaSWUcm4GJEUIzG7pAgFw7qwtrQMpTWH0dh0FLWbyzD5scP435miTrI0yx7zAvrfkTPi3wxk3tRfdzFRu5godzFxUgdu9d3VJMB+oXYldoslQkpamxJdbcbLu+JdFvXH48j4+d2O5Kuowz24SMS4Djy6pAwb649qg6DLetC8iuOiDpePwns9khlmfBTHtvV/DyMs6mF5z50RMf0JLBV1vKE/mIFyUf9q3LTOiKFGnXROOcI36HczabQqa+TDAElm6N1InONHyD60MYOCaf0GlXvkKxnx7KXO/qZ6xUU2t3dWfLXxE5RKXuJBNEVFRjb/9EoeaMvlbNaq/5/Ygc1k0sP5e+W8jsEb/TQtNW676Vqx15ra9nxcDlNy1p8u8Gdpv89lUEuXZsRe219vtuzSFzlZTZG9Pl+S+4XzNmkug93Fb3LqtR8ZV42U5qda1xLXfVTf53rWVWsAMlpAyILn4XsSJaPESfpjm9BQkoORH76BxSXr8dRrXZi4biteWGglljzdch+eKcnEyP94A/NL1qFGPTdykxXCL2SiYNgk3PM9Z4U8AwXrqvDC3Ax07g+Lz1uPlbtOYezCtXj/lSdReLuY5XcncbIHSfmM2U/iWMVU3Hm2EY8+sR5z/uc+dGTMxZt1W1D1M7nvnMLJz8y+nqLAXliK4qxubKwU8257X7vigGFZWPHqFuwvycalAzu15Vu8/SS+ee/P0LAv9g4G/SlbuVWrk1uckceK+yCTfUAe947jUItzzqbiXvFNK0+SlGQwum3ElBFG+TAgYkLAGNq3ZX0cnsvp0hXW97b1ju/65ya3u0yv3ZiHF+qqsEPEsJO7tmFOSTUqDnyNH5Wswv96pch+e8QeuPRf8mrlSHxTv3iZemoXE9tdTJzsyTPfd1fyu1/IfS2635r0/Sy6j/dwvA6iwS0Tsx+U50Wi/vijSbHJVxnjXluFZ77Xjdc3VGsDoP/L3nPIXLoKJ151ua2+yoiPL8wADmyW/3cbtnRk4OHKKrxZYiR6rxX1rLD4/HuBxs0yhm7A2t/+BfdUbkHLuiLMlBe1PjzV+1tcDyLf+JtgPPa0Zs0arF692nimy87OxpvvMowSUXy7nrfHDxk72toYOwYDZ9nBcoOo/w2GmMzYQ5Ra6RRXWncswbRfT8eRfQmSE+SLW7xN5bYfUN1MiIiIiIiIiJLuYgvqft2NmQunM5FxlWAyg4iIiIiIiK5KnY07seXFbSh9ZAM2duWgaMYY4x1Kd0xmEBERERER0VVp2NdnEA4fxoGucaja9k+Yqdw1n9IbkxlERERERER0VcqYsQotx1/Hibq1KBrvdUcSSkdMZhARERERERFRWmEyg4iIiIiIiIjSCpMZRERERERERJRWmMwgIiIiIiIiorTCZAYRERERERERpRUmM4iIiIiIiIgorTCZQURERERERERphckMIiIiIiIiIkorTGYQERERERERUVphMoOIiIiIiIiI0so3/iYYjz2tWbMGq1evNp7p5s2bh9tvv914RkTkTY0fjB2DC7c90cAzGI5Lxh6i1OIxN3ip2z47OxttbW3Gs77X42QGEREREREREZGU6mQGu5kQERERERERUVphMoOIiIiIiIiI0kqPu5nIJiRERInIPpN79+41njF2DCbc9kQDz2A4Lhl7iFKLx9zg5bbt02LMDLmgb76bugUlovS063l7/Eh1kKP+4yw7WG4Q9b/BEJMZe4hSi3W9wcst3nLMDCIiIiIiIiIiD0xmEBEREREREVFaYTKDiIiIiIiIiNIKkxlERERERERElFaYzCAiIiIiIiKitMJkBhERERERERGlFSYziIiIiIiIiCitMJlBRERERERERGmFyQwiIiIiIiIiSitMZhARERERERFRWmEyg4iIiIiIiIjSSj8kM9rxct4DyDWnigacN97xFkFDRRhtxjObj8MoOxAxnvihfL/y3W3bzWUqR8OXxot9Is5vSZYvG1Bm/kZlevlj432VOu/2duPFq8f5A+XuvzsZkrnuYvZj9/10MIrUl2PUpAe8p/sexuKnd6MxSBjojUgDFovvXVyfqi8cpGxxzD1mpi5u+3AVxVJrvRqTrxjEsr3Py/aB6EoHtsyLEw+vdKPjwDaUznswGq9LNx9Gx1fG+wOSY192m5J5jAfe133wqAeqU9K/s0+JbdJHdSFZTzTXSZ/VF8mf8+2oqSpD3n1K/a6qwT1eyNhSX435+XpsGZ+/HE/Vn8KFK8b7qiDzCpGmnShduATj5TLcuwRzVu4MXscMtHxdaN1XjcVmnJz0IPJKqlHb0W3M4FOg9RdBY3hNdN6ceWuw8cApXDLeTiepT2Z8fBzbjIea5kY0x6tgaAG5GBXNxnOFVkl5vMF4lgbi/JbkkJUpsU4KwzhivKLa9rh4b9CcGOvrIm9jh/F84Eq7/bifhBYsw/7NqxzTMlTPuA5tb72BOT8vR+1ZY2a6yjTgoasw2ToQyYr9Q7XGE9PYMRhlPPTEsr0Py/aBqhvNW3+Jpz4znsaQ7y/H5IpGdGbmY4eI2XtKcnBu3zZMXhpG80VjtnRUu0ac/PY+edWf+/qRjcXpUSf8OCzW9Rp7fKGrz9kGPDp3DUp/043bFur1vR0Lb8WF34QxuWAN7PlSI7ZUHsfQWYuwZ3MpKmdci9cryzBva7vjhDzIvEBnfTl+WFKHxpGTULlBxKwnJmHEh3UB65gBvvNKBLUrH8O0quO4YMTJ/ZX5uK3rOB5d+DBK/SYdg6y/i+3Y+GAx5rx4EiPvL9KW78mp3aipKMNPNseuk4Eu5cmMtmPOoN2Bwy1eG0qckFa7n5jL4BZT4fIlCw81vI5mOVXmJa6gJU2c35Ikbdt9VKaaw8gbBCcF5w9U933F8vo8VJn70tIs48WAPPfj/tpPB64R/5CF0MQcxzQdhWVVOLJhKjIudqDi1eNpmVUmH2p393/ri0Hgi8/NBHAmKmv8xzeW7YPMlW607liDRTVdxgsuTuxDmXg/t/BJ7K1cgNkiZs+cvQx7XsxH7mcNKHt14F9siK8BD/UmGdDjfT2JBnydsB0v82LPINCNg9t3ovZiJl7YvQXVhdO1Ot7sQnFi/8oCzOxqx7/ssup3lz7ao8WW2as2YUdJHmZOnIqC5VVoWJWJ5poN2H7CmFEIMi++OootlR2ITFmEX29ahoKQHrN2vLIIs0Ud89GtR3HBmDWeIN95oXEnKhova/PuN+JkaNYCVL9Sheqsy6hZtxuNXxszewq2/lpfq8baz4agoGIT9iw3lq+kCr+uyERnzTpUHIoT1wegFCcz2tFsBu6CPCwzHh5pbBkkrQX6kKNQXPacUakzppcLjDcknhTQVWbElBAKxd9IXTtO6i/RVacDFfvZOqNvRXCm03iIWzH6euNhQizbB5VIC7YsfxjTtp7GPaFM48VYnZ+dwoiM0SjMz8JQ4zVNZg5miT+t7Z+KPW6Ayy1Cg1KX0qbn8ow3heYw3hzoXRMKVtuXX0wNK5Ttxjoh9bsz+FwW76Iud8+N+itRt4gT7Ski7LzWjlbthctoevuQeDwVS3+cob1iGvvjf0SxOLH/1W/ME/cg8wqdJ1En/syeMQljr9Ff0tw4CfliGXDgpKiJJBLsOztPn8QwZIrPt8+La8Zg1k/FcXrxKJrVhIurIOuvHW//WxcwPh+P3+9YvtmL8YsbLyNc//7Aj82K1CYzlGaoyyYX4SdmMHUrDGKabTbgIa1PWxj7Hc3ytKZy0f5/evcCvf9bGG3iJN/sC6c3p3PvV2unfoacXJoSKp/r7HcY00c3zm9RP1ftt6dP/pswqlfFZCLjoTuMJ4bspUZCQyuY1yLPq5Kqri85eWTsrd8Yb95E20Ln77NMzm0jJ3U96e+r3Uu07jViPrUvpK91rW03432xPOpyatvc8b7K9Tc59jdtHs/9ONF+6tKn120+dRmVya1faFr3G73mWlEYCBdhFUqGSNNulD1i9H2U/RBXbkP9Jy79EGX/wZr1WGz2kxTT+PxivX93OjeHvprUrkm8b8Y5Lt33cetY0o49zxjoOOY8yw+D43Oc5YQl9lh2m9eKKaJc+Vg9rv2UE4nipuCznHLFst3Qy7I9LeJ1BLXr1+OppuEoqqzCCwtvNV6PNfb+1dhftwmFtxgvmLoi0HJmN16HEdoLaeaOIltCY9sxR33FdTvax2yJX/6b/MWGnhg1a62S0PBoReWMhR7f79wXnfu7+zK7xSTHvNr3K91LZCsSOZ/t+Hb5HM/6o+A7LlNqZaJo76s4/695cJzSuziF1sbLwF234uZrjZdM147DBHni3njSuLAVZF4hYzQmij9Npxz7xZUunDsl/o6/LsnLB0wofAktx9eiIPEHxxFg/UVO4yNZp70rG5lqwkaTiYn3ij/vieVL2Bpk4EhpMsM64c7ETTeIYJoTwjTjlZjCIClExUIpLKaFcnw0Pe1ARaFaOZFkBaVvBw+TBVvs+A5+v1e5KpYrKpKORIZJJjTiNr+VfUCV9aWRr9kKBr3gcG0aKef1rES6bYuAnxVTcTQF2z49WtdieazlzMT0HK9wEec3yYLYc/0E4CzgTVpBr1SS5Xxxxk9JbQW4j33WgSb5d8Y4sXVM3Wh+sRg/LHkDbw/V+z5q/RC/aMTiB5dj40dKQuNKB8JLlmPO5k8xMjQfz8s+ixuK8IvvAQdqtuEn6/w1LaQ+kptplRV7knAMedBOKNxiYEW5iD2OYy7e8Sz/j+NztM92VrK1mBZ7LLvOGyXKqMeV47pgErKNh67ixs3kxAGW7d58lzdpFK+/eWs+9te9hKpZY4xX/Lt0ugUby7ajZlgGquZMsrfYSCd3TIq2QELnaSsOeG5Huf8F2I49ig3BqMfpkc/tJ2/OZItJ+/449Ri5rzr3d/l/7L9bJmncYlLQ3+fxOR51US3J4hKXY49PGlC62tH4nvg7ZTTGyudf/wnn5NgVmcZzmwyMlS+ePYNzctDLIPNKGXejcPYQRGqqsbYxgktysM4rERzcXI1fnR2CgnlTXT7HIeh3eupC03ty38zEzc7WFkE4158vEZzrMh6mgRQmM9QT7hByZcuA63MwPVd/CbXH7VcqtPEItqDSfB95eFlrHleEOfKkXMmKT1uxRWs2VzXL5QRTaV7n+r4r87vUpni9aOIc57dolVBR+Jknv1b3kNVGQSm+tzpA5d3PQG1xxH6/oG6bj+uiBYc1r/Lb4g365twWgT4rovRLtvpy27aPtp4ykFdpb0JpfrbWWqUX69qaP07Lli9bcNgsWJXfG10ecQL0rHElQEsu+d2Po0ThHS2Mrf3U6kYkKslGRUA9wYj2fVe26zZxQuR6dTCdXLmMCydEpW/lbhzESJQ/GLKu9HXsQ0U4gr9bsArHNut9H/V+iJvwwpQurC3dbvVDbH8fdSJwF1b+EtWPyP6DYt5QHoorq/D8bLH3HXgLjb4PQkq6sQuw0NzHlWOoL5jHYXNNUbSij+YOHIk2N/cX76KfY4ulanNuJaYpTdmjsUJUyD1PfNSm73HHs3CPm65xIFE55Yllu+c6C1DepE+8zsDskkUI+V3lps/ewJxJD+Cmueux9qPrUP6rTSiyiuk0lIGbonHgDL7QHojjbY+xHdVj1KUVR/zyvxexIYjrx+C7xkNnQiZ6QSZBPSaWW/3M+t3S+QO7jSSN+74ejRl3FNlfN9eFcVGubbuZ7LGO6+g6dS7jlw14Npq0UL5X2QY0EHWj+ZWdqMEQFM2+Wxx1Qtef9JZd1zibPRi01gZ/xgXZ+iDIvJqRmPnkVjQUDcfGJ4px05QHMGpKMebvHoKHN4u6o6NbhqvA3+nu0ge78dwhEWlm3Y+ZQeNtlMv6G5UhjgDh09Mi0jidxskPjYdpJHXJDKUZqnUVJUPUfcxg14DmpF95EAFrTvCBGZc9Z1XeRs0qtSoqzkpZUtgLP6tVRRYeigblRKPCn8YfjIe94vj+3OgJ8qc4Y36/VrjohYDVlSUDoxOm+1y2RZDPUhIf01aURpMJo8TJqSzotIpAwkHferGubfPHce6MdUVG2V9kk07zt/qveMeyKgH2/TR7jn7ipVWYtZMbte+72oRUGSTPcZKiLqOzm9JAUF9ZrN9qSp2mPIhbl4RRd20OqsObsCJriDG32JS/FTFF7HfFD+bYr/5dk4H8B6Zq/RAP/sdl/bU7F2F/3auonjVSfx41HHd+X49Rf/W4hRelhrmPS0c21vXRiV0eFprHp3pCLuNXqRlf1BjVgS/OGQ9VIl6sjB7nSnxRj0U1mTvfil1qmePVqkGdPy6PuGlfpgbs6k1yiGW7hyDlzdUXr2P8t0ws1Ubp/xkKM/+EtUWLUfpWL/a7AUm/mKJtF7U+csNoKzHqRy9iQ+8p+61MEijJUvX7vWKwW/1MoyRLrH1XvTCkJIf8+FLELSPhMm1FvnVsiHqleXFHHbPnfEtjtG5mi4XK/DTwdO5fh0W7u8UJ/WMon+Gsn/UFcfIfLseicAShWT8z7iwiY1YEa8vW2Fv09qXTdfinxw+jdVgOnn98ao+747muv2uycc/PRV35vX2ocfyeSx/UIZxwfI6BJ2XJDPWqg9pEv2+bowYZwMykN5O1qBVX5aQ+aSL4wrySL5stK335rOZwHhXmZOtJqw7ZpFIsq2u3Chsf2yLOZ50/86nxCPjuaDUZoFf2/CUIerGu/a4btemp1pTY+o5kXElR7zRg20+1K4T2pJB1MmE03TSXJRldXfqB7dasG4pQPlEmLkaisKIKH+5ahcKs4fqMmgg6P5WJimtx4bMWNDbZp6azl8UaBFpPOza2bOlxukPMcxS1NWE8tbIYP9nAJqgDgtjHV0av9PXyBNxL7mjcZDy0s8evm262ji1XznihnMyYzbnVmGaO66NPSrNp9WpplLOM8uZV7mqUWNWbgTpZtnsJUt5cffE6xpgsZZT+taiSo/Q/vQ41p433r0oRfTwHj+5DXnoeG5LA1rrU2YUtcZLSXj/zRx9jw73biSflwpHteBFTtA4ZbTFjrzs5Y2HCeE79oBsdr5Ujb73YbqEiNDzd8xP6IC4cel5LZIxV7sAUvbPI9yNYW/o8DvZx94tLn7yBRwt3olbsqy/sXoWZPcrhxFt/QxB67EmU39KFtY88jMWbG3BQ1nk3l2HyYy3IDNzsrv+lJpmhZFBl4S37DUYDjxrkB8SIyrGVpIEQ6P5wJk7FXW0q2CdXmOy0vpTm9nP0PwwqmZ+VLHHXdUJZeEhtnq7QKyV92z9bJa9+uF5xMCvWSep3myq2W7OG8rBi01bsmSsqxJXlmPei877YEXwu+wiiHWUl6zHHOVUdF5EIaIx2ChSBv34D5sx4ELfOLRfzVOPRXe+jc9gkFDpGo6b+o17pO7KxGruiV7MHlmk3O/YZNUYHoVTGBySW7b1mljdXW7yO65pxKHgwRzw4g4Mf9kFSMiWUZJVKG+vCPA4CnqAHkYzYkKxWvYEZSR5jPfXdmBV9kaSkPndFjndWhp8814FhM8SJ+LN59juLjLxOH/vhiscIlVor2gzcIJMAQeYV9cCmd1rE3pmDx5c47sB0zRg8oLXobUHtMVlvbMdGZ0thMW38SLwV6DvtLnwQxryi3agdmoUXataiwDZWRpzvVCVaf9KwLKzYXoUX5magY18Y80u2YvvpLFTXvYQnp+oXBr/p/D8DWEqSGWrzrvji3Zc+VWKDn5XR7WO5Rn9Alyl+ywO1S4h3k149cdC7frcyg662nDD7AfekmV4yPyuwHq9rH4xWEra+9VHxx+VINq1frlyWaJNyRbL63faXa0ZiZskTKL/lMhrDG7DhA7W5XAZuvkv8uTEfR46/jvNeU4nehFZm439SeRwnf/AzNOx7BV+8J9777UvY8fQizHaOxE/9SO0e0YEjfXWi0EvOwfQSnTRY4yk4J3vXgoGGZbtPPsubqzpeO4y4Ps2TxEr3KqsFQzteVpN45nb3uMDhR1/GBlvXC1+D6CZH23Y1yWOOX+FWX/LHGp/IOcUZ34wGJjnY5rrlyJOtI37+BI5UupyIX3sdbpAn+Z0RxJYqEXTKixzyTklyyIog86IbF/4s/2Zg5LflX7uh/3AbZou/f/VKUpgCfael89AGzHusAY03TMX+V1ejIPj4yv7Wn+nb41BQtgnH3pH14VfR8KwcC+kyPu84JZbvNtycqoCQBClIZkTQ3Oi/wtD/96V3djNIfN99e8VVnd8Pt0GkgsuebFV+3EY+txIHeteHnlWK1G2pD7jU8766wT5r1Gjr9m/2lhNGht/XVavkrGv/lP6z6iBWvfhu60qicz/Vb+HmeZsxZXwSdVCu3rVCGQCGZaG4bDomiEJoY+VONEcHVBKFiUxCnD2JDpefeOm9au22q0+9IzPsZjZ+HCofX4DcMcMxNBr8RWD/LM3X0dXmjnz/lV5HU+yUnbw6m4ArTaLNVhveMS15rHLBJZngOtZFECzb4+tFeXNVxOsuHKwqxuR7q62BlhWRP+pdKcb+39dpf9OKbH2htCRdNtkYV0I9pnyN4+UuFbFBduu1WkQoXS/iDd5rO+bzkNuj+p/97nsNPU04uHTdi0etOzljYcrKBYpPnIjXVyzH/PpuhIpWYe/ySRjheiI+DhNCcswHl9uHfn0Kre+J6Bu6DbdpLwSZ10hC4LT7nTz+eAr14s83tYE9s7DC5QLZijvljEG+U9f51hr89Mnj6MzMQ8P2UoRcA0e87xR8rz8Rm59egvFL3tAHKlV93YJ3fyOWb0aOqFenj75PZqj978wsdcykZGQTDXaZAuqo4ecPVFsZZLX/oDqgkxLwbfP7Yu+DaN6JQhYaVjM8H60pHIMY2ftZOprxFaxOwoBhylUudeTrHvHxWcoJjGxeHm2ybA6UJW/FlXA9JWldx6H3/dQ/y5ZYUK/MevbLT0xtZm/fT/WBQbW+o1ofaz254fab1IJb7d+qLns6XQEcetciPDNXFBxnD6Nil9ndZAgm3pcngnEHtrzaggvq4J1XOrC9+igikQxM/J5s53ctvqll4btx4S/yr+XSid3Ysk8+6sJfHe9Rf8lA3nyXK9cmtUuHWp70Ok4F0KyOpK/egUg5aVDHrLDFNH3soJgY0hNe32FbJmXQ0yBYticQpLy5GuP1SBFfM9Bx8Si2/8axH19swUvbxe+6MQ/5P5BjHw1gzvFO5ORofeE2OLh1gi22d/SOQj4lOzZo9SPHb1C79RYssA3E6b7f2o8B26CbPaUk+QIfX7aki9JqSe3moyy77Ta06uClqSwXKK7Ofeuw+NBlcXw9ib2P5HiciEuifvejGaJ+FxtbOveLOhuG4xc/Nm/7HHDee6eKI6Adv4rWJQ1XIqjd3QgMy0HB5ESDWAT5TuGzN7Dy6XZ03pKHnS8WIdelVYgf/tffSNwwTkSmE2+h3pbH60brrt3YeHE0yvODD7Ddn/o8meGvGZsaPNWsqTpAl96iIFrQq1lZY/CfXlf8oszvUpMAjtHTbSPdu83v5P1b7KOqm4WO1QzPb6GRvdRPMz376NTB2LdTtH+0bawLjwE0YwT9LHECU2o21XSf3zZSvXJlw0zsyMIuWevai320b2VQqmjlR70rghB4P1ab2Xvsp9rnu88np2jBnZSk1kAwHKFHHkPRMFnvrIasI0tD75yPqsKRaN29HtOWb0NtYwsaD+xG6ZKn8dRnQ1BQsQyztTLJTHxEUPbkGoQPyEFCD6OmqgyTlzTghhlyP40gckHOSwNC3BHo1W53XrGl71nHv3n7QMF20mDvMhO7nD1MMtioY/go36Eskxo3g2DZbkpG2X51xusRM5bhhdAQ1K9fjjkVu1Hf1IKD9duweM56bOzKQPma+cj1uHthehD1KbX1hToAuMv21qittjz39VTEBoNMRDrqhLbxW6K/QzkGxP+x7tYUlL1btPvxpXYJU1s4GYkl7YKNWidULuCpdS3bcW0fQDp6jKW4XCAPXx3Flq1nxIPhGPv1cWx/MYwtMdPRaEsCs34nY8v8TcYAlpvKkPfcGbEPPIGl440ZhUDzTlyKnWLe5pp1uPcJtd64HI82AoUri3wNyOn/O7txcFctDopHE/7+azTtcvvdYRxMNFBywPU34eeyi3YXniopw8b6o1qdN1xRhnkvRkTd+EkUpln36j5OZqhN0lxGU1d4ZU1jT9CNICfHJYgGe52fpmaJiQBY4/xO2Q3C2RROdiFwzif/r/eYD56/Rfsse3NSnf55/sdw0D/Hq3+m3veyd/0sZSEXs5zafciV++H7HLk+8GdpY1G4JWxcuqmIkx3nZ+vNNZO1rr14fb7ksh/1ZD/WmiAr3VZM2tVR5fO95hO0JrA9TmoNQCOn4omVmWLti+D87Bvo1FpiDEduyUs4sfln+NGl46h4Yr2oUNehaVg2qrZuxQuzrW099M4i7N+aj0KcRFmFmK9sJ+r/8n1Uy9u1PnIXQmKepv+8qofdTzvZyq1aneTYA844LOOf+3HZB2QccxzXrsec1zGqxcEkjZdhjOETUy4ZrSl6doLMsl2VlLL9aozX12Sg4NmtOFI2CSM66rC4ZD3mbziOS5N/hv2vbcGKO9U7UKUXfZwG5zGahYditqG+raP7gNpCKd6+noLYoNUJPbrCaOO3uNQl4/0fv9zis7Y+lcSrmvjMq3SsB7NFh1ed0FkXMsg6p1tcTlm5QN4+PYmw1k24G7WvNeCpsNt0UpQ8JlG/e2yTiC3iSDi0E/NLqlFx6Gs8UFGFvY85Bu/swbzHKkOYeM6qN568KYQdu15C9f1+zxH8fucptNXLO+8BrY2HXX6zPrUl6qMZdP1pA4CuRvXkr/H6hmrMKdmO7efG4AlH3ThdfONvgvHY05o1a7B69WrjmS47OxtvvmtWS4iI3O163h4/ZOxoa2PsGAycZQfLDaL+NxhiMmMPUWqxrjd4ucXbVG77lNzNhIiIiIiIiIgoWZjMICIiIiIiIqK0wmQGEREREREREaUVJjOIiIiIiIiIKK0wmUFEREREREREaYXJDCIiIiIiIiJKK0xmEBEREREREVFaYTKDiIiIiIiIiNIKkxlERERERERElFaYzCAiIiIiIiKitMJkBhERERERERGlFSYziIiIiIiIiCitMJlBRERERERERGmFyQwiIiIiIiIiSivf+JtgPPa0Zs0arF692nimmzdvHm6//XbjGRGRNzV+MHYMLtz2RAPPYDguGXuIUovH3OClbvvs7Gy0tbUZz/pej5MZRERERERERERSqpMZ7GZCRERERERERGmFyQwiIiIiIiIiSis97mYim5AQESUi+0zu3bvXeMbYMZhw2xMNPIPhuGTsIUotHnODl9u2T4sxM+SCvvlu6haUiNLTruft8SPVQY76j7PsYLlB1P8GQ0xm7CFKLdb1Bi+3eMsxM4iIiIiIiIiIPDCZQURERERERERphckMIiIiIiIiIkorTGYQERERERERUVphMoOIiIiIiIiI0gqTGURERERERESUVpjMICIiIiIiIqK0wmQGEREREREREaUVJjOIiIiIiIiIKK0wmUFEREREREREaYXJDCIiIiIiIiJKK/2QzGjHy3kPINecKhpw3njnanH+QHn09738sfFiD8nP6u1nuPo4HF3GsgMR40UPyryJpzDajP+WVEGWl64qkfpyjJr0gPd038NY/PRuNA723eKjsLY+FtdfHStCjaP6VI6GL403FW3b1XnEpJQp1nvu/ze5lLKtn8s127rb3m68GkudL1hcHTi/Nb4IGiqM5VSmPilTBwkzHo+vOIoLxmux2rFRxuZ/bhBbIJb2GXN2otV4brmMxuce1D//ueO4ZLyaemo91T12JLOelwypjXV9KKa+6fZ71OPapc7p+IzY7dOb+JXgu31LvAxe+1j8bS2Xr4/q4al2pQNb5iWu01w4tB7jJ4XRbDyPrxvNm5aIGOOYP9KAxTJmxZ0c/+dKBI3hNZiTb8Ss/GKUhlsQuWK8rzFiYdypHLWOnxhp2onSefrnyjpu6ebD6LhovEkxUp/M+Pg4thkPNc2NaE7nwNtn9ICZt7HDeE40uIUWLMP+zasc0zJUz7gObW+9gTk/FwXCWWNmugp14ItzxsOoCM50Gg8palROCNOMx6g97lGxjYji1yxfMjE9J8N4fJXQTmiKUeFSw932uDgRiJPkocQiB7Zi7aEu41kQ3fjoeAcyZuRggvFK1NctOPjaZUy4cTgirzXgYE8+Puk6UFE9kBN2V5EvG1D2eIPxxHQrRl9vPIzKwOixxkM0oNmRrDh/5lPjke4PZxxniup5yNgxGGU8THty/XnEvPTTjeatv8RTnxlPvZwVv7myRZRm/lz6YCfKdncbzxTDxmBmUR6ecZnKZxll4y3fwgj9kZbIqF25HHNePIkRsxZhz+ZSVM4ajsYX1+OHKxvQGU1ojES2y2dq09xxouQVhl2HEcO0mQXxuzc/jPEldTgwIoQXNqzCnpIcdNVvw+QlYTQzoeEq5cmMtmPOQNWBwy1+d8P0MGrWWjQ3vK5ND91hvBjQ+QPVV0lAIkqOEf+QhdDEHMc0HYVlVTiyYSoyLopK56v9eTWvn91ZhPPHX8eO2VfZSali2zHHCeiXLTgcJ05mL9XjcHPDWuTFVIiTLQsPGXG/uTKvfyvI1+dgeq7xGJ/ijNsFA3Xd5YaQ2+frJ5Xa8XL0pCgPL5vbRUwvFxgv165hK79euYxw5Q40Bq1cf92OxgPAA3fdZrxgufBOA7aIE9WipdMxQWzDg00DIpsBNIfxJlvz9L1zZ3DEeDhtxRbjmC1CtvGa6qabtdNAjT1ZoSZpdUcaW2zJKDXZsWxylvEofbiXaxE0VIej6y+tXelG6441WFST4Pg/fRhly8Oo9RuDLrZgQ+VhlxZhwrezUPhIEYqdU9F9yPhC7F/DMvHCpgV68kG48E4YjzZexuxVm7CjJA8zJ05FQUkVfr0qE5HGMLa8YyZMxmCm2+c+Ml/EuNPiDHgkyquXYea3jdk79qFC/O6MUBEati1DQSgHM2cvw45XilBwrgGL1sVrETd4pTiZ0Y7mWuNhQR6WGQ+dgYYGmDuKjMBpTquj2w654oCzvede8BD1pRFTQigUfyN17Tipv0RXk9xMvaVB52l7pbSlUau8TRPvkyoDuSFznbhfMDDXnbRsfj8nX5JNufK67Dl7mZS91Cq/WPfoudli/8q4eBRPvdASLIF8oh2vIweh7CHGC6YuNL7TDtw4CRPuvxsFNwI1exsxUBpebdvD1hl9TU0yfHd0/KS82vrsyOdKfHNLcDtagH/xudUi7aYbjIc0MERasGX5w5i29TTuiZZhDle60VG/AXMKtyEstmHBeOP1uLrRvH0bNmI6Vsw2XvKhc98GlLYPQcHKUi0mmTo/ke0dM5E/xb6fjhV1Ufnx4d+f0l/wcOm97Xhk32VxClWK4juHG68Cre80oFmU308sy8PYa4wXpRvzUPz/DkfkwFs4yBx8jNQmM9QKxuQi/GSFsaPGzXqrfRetyf2KSpB5DS7jQfR2/nh9KWP6d8vJ1tw1tnuJ1iTW8Vm2PtHaFKePnNb0TJm3r5vXOr9PmxL3O7Um//39bOtT/V2uyxC7PaSB1veVeuCaa6G10rsoCgntBUukaTfKHlmC8VrfxAeRt3Ib6j9xaWYodDZui/ZTHJ+/HE/Vn8KFD/SxKDZ+ZMxk9K3c+EEEB6uWI0ebdw1qPrlszOD/Oy90HMbGlQ9rnyG/I2deGcpqWnDB1ufS53xeY2acb0dNVRny7tP/r/xd8v/a+3WKMLxZvP/PDej86hRqxe+afK++7JMfqUZth/v6Sp1b8V3Z0sCjUvrdsbdqf508+xYHiA/+yxWPPtDqd8kY5fxurz7bjvm071PKn7jllGCr7MectKtXL/OQq7QgTFxGefPuy+2xbgz+yzOf20JJwPe0dSTFd+eCUlROEZXv3c9jwwf+40Prh42ITPk+7jSvRJpON6LmEPTuJ9dkIvRTUcFv34f6E8b7/U3UU59NcMxJwY4BZfyFuLFBmU+bEtWR/M7vnE9Mbse6Le602/6PnzpTbExxrht/9V6b68fgu8ZDW5Jbad2xrCDPeKR2UVS6JjpbpMXU793rrXaOmOQVz5MoZh/T9hu1e0kDHtLet7Z7kLq29z7c1yKoXb8eTzUNR1FlFV5Y6F6uo30PJlcex8nMfBzZXoqZ1xmvx3Hpoz2oqLmMFRWLMGuk8WIiXUexZesZIKsAT5pdTQx/d9M48e8pfO7s2nw+gs/Fn9ANcb7kSge2Vx9FZNhUlC/MwlDjZfn7O07IeqSIgd/RX1FNyJok/u1A639adU3SpTSZYXUx0bOhamUrpvmwpB2ga+xjbBiObCy2V2CCzGvQDtiY/nn6/G4BKe78CSt7erB+yGyZoqpdEygAyuWIHUtDBi+XwCODc6Gj6Zn8PpffkRRu36fpQEWhvWBy/x2S/C2JCms9OEfXZ8FqNC81mgt6LoNeQPopfCnNfNaBJvl3htEHUdON5heL8cOSN/D20Emo3LAK+yvzcdsXjVj84HJs/EitgF9Ga7gYeU8cRmOG3k/x+UdvQ8eGMsyret+Yx+5AVTlW/jEHz8i+kvmTMOEWeaXR/3deag9j3sJtqPlLDp6U821ehuLMbtRtXo+7lcHv/M7n6mwDHp27BqXiJGHiI3LMEdmv81q8Lf7vD5ftRKuzeeafGrFuaTlqvpqE8qpV2FMRQmbnUTy6cDm2uB2qKTMaN2l9pNVWBmZLP3EyPll7wZ8g8aEH5UpcMvY6v1ucJOU5yw+XZdS+b4+9L3hcalcT59hU6tXLgklGy4XklVFB+C7PkrQtzh/YbX3G1dRfPtX+WwYKyhZhtoh5G6v2oPVr4/W4TqP1SDdCk7PgvO7eefwQDmI4fvEjvRyfMFl2NenGr95OVLfqY2arMOHIxrqE9ZIe84oNFeWOE1UpXh1J1rXc5nfWD+VJuMv4CgmO9SMb1yj/x54IjaWf6MfGFL0+GDh+2mTgJpf4Zp1niGVbOinaCit6jqHGPuX41072Y+rFsfVWO7leHTFJbjMf9ddU6m1dO5W+eWs+9te9hKpZY4xXXFxzHYorqvD+tkWY4EyKuvm6HVvWNaBz7jI8cZfVCiK+y2jetR3hi8NR/k/59lYSQsbU+1E08jLWrqvGwbNGciFyVDxvQOuwTCy913v5I2/t0MYCmf3EAoSiY2X41/n//cl4RKYUJjOULiZmNlStbLkMUmZrBvuc2Y1hCyqN/3NkY3U0OAeZVyMqi7YTYeMqToPSWsSWhXedX+luIQqAuCfJH9dFCwC35bOCcQbyKpXlEMz5tStMynJYn2Muhwi8toGqREGiBOfo/DVF0cI5uURleI/xfWr3k+fM7LiatFL3B7d5RZCNlyAS6yEanOX/NxMZgpo0q6wxPlfZVtseH1jBm3rhymVcOCFOclbuFhXhkSh/MGQN0CT7HoYj+LsFq3Bss973MDRrAapf2YQXpnRhbel2NJoV8NMNWPeifV7ZT3HP7iKMPddlzGTXfCmEVzaJyrzsK/lIHibIwi7Ad7a+LZsTTscLm4z5Jk7Xrka8OHcIRra1oOmrYPPFOo2a/xFGrTgOXnilCs/MnS7+r96vU44xgo/qUPaao4JzogOdU5/E3soF4ncZfTU35YuTii7UHuvXbAZyJ+uxIdqk2GzplzsaN2kv+BMkPgQuV3yI9gVX47Ct/FPjtrKMIjYeaQ6yDby7mth+l9ln3HcZlUQByrNkbAt7pT4PLyvlBvXAjfl45vHRwGciBu/2sW9G2nHwxHDM/J6zon8ajXVnxOeJGGXuspkizo0X/2XfIStO94sQFkbrYwnqJb3lVrcUx/wRua9qrytjvohlcQ58abHmt+qS4njaby1723bzJFwZU8asf8VthaLGzfjdiq3vSHTMJqj3urLHN73lhdLqQkvSKgkPs/WGOi7HzUZK7csGPGvEBWusDms549YZlfqrum12BUnUaAkQszWENbknIFxcn4cqNVZHt6ncPr2sa6dUBmaXLEIofg8jIOtneGb2OIxwJBjcXUbrK9VYe24qXiyZpLSCSKCrETU13cCU+Si809klThg5FVV7V+OZEUcxf45x15H8amwcFsL+19bCc+iyKx14fbvYrjfm4ReO1h7y94/VLtp8ik6X3afzk4GynQae1CUzlC4m00SFXM+GqsEoNjBb/drUk2A96OnBxhr8Jsi8tpNuR4Vm1KxSJdCaWXiv+bOMrjJ64IjbnNW12as6IrMf9mTBT6Kfk4WHooWQUuFUR2wWhWT0e0XgW6kUGsmjrG91ALwbRscmT748jT8YD23LrKynaEsLp8/FSVi0si/WvW2wPfXuBmoFXhmcz1EAJ2PAVup79ZXFeoGhTlMexK1Lwqi7NgfV4U1YkWUVOs2/lUmATBQ/mGMvwK7JQP4D4mT+4lEc/A89o956aB8Oiv23aI5jXtlPcaFHJv/eLD2BoQjynbrTaLV1PxmOUNmrOLZrGUK2Kw5+51N0HEZYhMLQY8tsfT2lEaG5KBcnCs3/1ugYDCsDhflqs0chMws/En9a/6sfzyjkFTQzjhgn/tH+1ep7CQWLD8HKFR9E3F5pVmBEHF4Yrfwqg3Ta4vYC6/NFbLQqy/64dzXx6GKSlDIqiGDlWW+3hUxkWFeIZZkd/0SM/Bk79zE8c4vYVFt/mbD11oW236FeVPYnOptQnxCx6gQwIf9uJaaOQejH4lgRMbP2HfeEcqrcNGuBlVyo3R04gelPJirnWHXLXOVYV8d98R740qLOr9Zpo0lTcfK+yzgWpq3It44DJcZ4jiejxqR4lO+w1T/lMVtqJnLtCZagRo22uiFo60JpdaEnKpRzDCOWRMsNsb7NOzi17TdbxIiYHD3BVJfTK3EktlmpVf8ckOPx9KCundqBs/tYx26UhbtRVLE4UCuIzkP/jhoMwYoFM8Se4OJiOzaWrMNTHaLOVKLfaW9HSQ5Cot71yOPedx259MFb+NVZYObC+5B7rfGiYsKUqeL7OrB9b7u91e3FFtS86n68UwqTGerVMPUWcPG6mmQbV+I0sulbNGMZmyUNMq97E1uTW4Ilgi/M+R1XAfUT4R5Uij4Oa8tnVa78UJbDmcmNntxbfQOtoC0KN8eIzWoh0HdEZbVCLJtbk27baPt6Uz7ztyRqeniktsH6vLjbTyakiq11lIK+jNR3bLdm3VCE8okycTEShRVV+HDXKhRmqUmHCDo/lUmDa3HhsxY0NtmnprOXRSQSJ+in5cHShc/bZKIgB7eJSrnT2FtiR92XQjc5i7gg3ykKrR+JE0mx75ctXKKPY/FiAw6eiOCSYywLv/M5RT45qSUqcr/j1txxDG67S/y5+Ck6bIfbGNxgZQZ15ngkka7+HUU72kdaxmXrhDx6dc2XYPEhULnih49uDfHitm15/HDrahK3/FP0qIwKIlh51qttobQA0a9OMpGRNNdkorgyX8SoLjz17BvKLQmdLqP1gxbgx7FJ4Nb35B0GhqNginVsSmOn5GGm+Fvz1vtib+lPSoJN1ld6cQLuze0WpJJ9kMrEdTfnoJZqQtJImiqtE2wxUEzR46T5DL4wHqr8xlvX1l+mBK2yfVOS2LLFnvWd1nmGtb70WGIlRc31rSa4ZbcLa12odVf3xJFzm6ldX9zXX8r1oq6d9q50YEtFHTpnPYbyGX4HypA6UL/rDDBsBmbd5dIqQ8S6g+vWYW3HcJRXV6G6ULZ6zcHsQlE3rVmEiR1edx3pxrt1R8Uel4mCkHs3lKETl2Jn4Ug016zB5JJtqG1swcH6bVg8Zz0a/yETIWM+sktNMkPN0DoOJtuJrjPjfYeodLi2IDACjlr5DDJvP5FXhqK/W+n+kWxe2fqU0Po1m78z3v2u5RU1pSmlwixcfY1t4dK9RyaYXK9gmhXmAdOkjoKw3Zo1lIcVm7Ziz9zLqKksx7wXHVlsUVx8/p78246ykvWY45yqjotIBDRqXUi+xl/jJAZGXO9eeRvxLWdaPch3ikIrqwhv7itF1f2jMfKrMwiHw5i/pBg3zSjWBh41f4/f+WIYv2nYf9P/+pOBkV4tPf785/jjc/Q562rlH860GCfC9uS4H4HiQxqUK/GpyRu9JUq8k4xUlVFBRMuzXmwLtR+9vSUfJUXmAlQViZOF9t14qs6j/nHlJJp/AxTd5Wj59fVx1O2SyeRuPLXE0fJu7k4clPO814ADp+WDfnRHvtLCYQ2ebTQeDzixSRG1NYd/Hrd0HkgcSZE3YxIVwh3quBlhpctFsO6JtjummGI+o4ct2dTuH8rkHu+CSlJdOw211vwST53LxC9Lplrdj/3oeB+1Z8WamzsJuW5dWb5qx8EDl4FZi1Gk3IlEMyYPS+eK2uCBt9DoLJC++p34f+LvlBDu8ay2DEfuY5twrGIqMj9rxKNPrMfKXRFMrNyChsfv1n7HN69xadIxyKUkmaFWnuKz9+uVol0A3MZ5EJVPtV9fkHlTzTZYpWD2BwzabDjKI/jJqSqmH1aqtONlNTllLqPnGB1W02639RCvn+Ky56zg7HbLtGgzuejVFIVLAoTS0DUjMbPkCZTfchmN4Q2OEfUzcLNseXBjPo4cfx3nvaYSeTJ3rSgctP/k6lL3n41HiQT5Tt3QMVNR9LQouA69ik/3rtaaKc4cGsGWynJsaLK6o/idz8b4TRf/j/73amBWyo9sDBtdMbyuZsYXJD4M5HLFD3tXkzq86XEXk6SXUUH4LM96vS0CnsCQX0MwYeEyrLgRqN9ULU4EXLqkfdKCuouZmJhtr/xf+vB91FwEJoSm45mivNjp/tFirjMI/9bcb/uL2u1AHEuBxq9JpdgkhNpFy8kaI8I5pUMXAzV50IBtZvyytThTWkvUinmMh1Z3d5XeZdx1fbh1e45pfaG28hhIel7XTl/teHtrl6gAdWBxvj1Jmlcj329AnvY8DOc1187ft6NVxLSH73HZ5tLFP0NrMJgx0iVJMgS33a7XU2IuknW0ISz+zJ6RI/bKOK4ZjszZpdhT96pWZ2wRdb7iiRm4dOpT1GM4JnwnSCuTwSEFyQy1f25inv3MtAFujKCiVEBds6WJ5o3bxM2tP3GcpmNaU9xEty+yf2bC8TU8BWvCpjZHdHbhUZsyJ406LoosIANcAbP66KmDGLlfGZCf/dAd5nglgqjEet7aV+kXqGa5+7X1CiXPsCwUl+mj3m+s3Kn0U7wON8guI2dPOrpR6C69V43x+cV4SuuLPRI3axXsFpz8THvb5uSJ3xmPEgnynR0IL3kYORVGU8RrhmDELVlaM8U9VXniSL8sPkOOWO13vlgZ37lNrBfg7Xa3+HsaJz8Qf4bdisz+yn0GYDZtjmlibZ6cqrfpCyJIfAhSBvVCvLhttTAIwNbVRFTmXbuYJKuMMlndQzRqv+2oXjTJDrgtouULW2X0nWE5eKJCxGJx8lDx3D6Yd7I2dX54HK3j70KuLd5cRtM7stl1Bop+sQzFjxTFTsv/EYViztZdb/XzQKCCbZybRPwcA33B8b1i7Von2Eby19E9oy/EvVuh365uPri1OrF3hbF3LTR9d7Q5j0s3HN+c83t3SR8ogtS109sYzDa7JTumqhny/SxUac+nw753dKPjg1PibzayvXp0jbwO2i5zNuLa9bbzP/Wy1HmRrLX9uPh3OCbGqXRFDq3H5HuLURNTFxWx8pj4/25jDlEKkhlq0PK8+qIcVNEBaozxFrQmr/ZkgXoirgetIPNK9nEx1JF8zx+ojnaNsAZGykDefLPCpM5vDmCmd53x1/9MCRpqP15fvJZb/f1KhlVpXmfrwqOM3NxXrAJSLFu1y5gZRn9sbbJ1+1AKgwRXXUcpg3JZrTP0W4HFrAtBvTphFWT6FUlzWdhiI/0MvWsRnpk7RBQsh1Gxy+xuMgQT78sTJ/Md2PJqCy6oGXLzHt+RDEz8np7hnjBjLmaKfS+8v8XeleJsA7ZoTaD9CPKd45CZ3Y3OA2/hoOM+5Zf+609iSUR9c5hMsPidz4W8G0CWKED/bYfWZFJ1oXEf1soB9xaGtIRH2nAM9Ol+dS2eIPEhaLmSJF5xO3B5YXKrzKuDDTr1vIxSTyysExiPMiBQeda7bRHtPjPguwWlNzMWRxo7UG+8poug+VgEE6Zl6ScBpq5G1O4Tf7PyEHIZr0gzMoSCn4v4fvE43v3QoxVaCmXP8Wppqgt2DPQN2x2ZlDptNHFgu6CntERTuwnb6mU94PUdtnURLw75oyZNdLFdD2PnsbdKs8bjEXV55Q5KVrc7rwuWzvmtu7cEL5v6SA/q2ol/dzoYiUyzW7JjmqANiD4GE7Tn4xytK06hTXYhG38bMr263F6bg5kyJh3ajbDtFv+CqDNu3y9Kt1n3I2TbAcyx2b6PCV6xTsj4+9H45sUIav6X/Rzt0ond2PLaZcx87D73ri+DXJ8nM9QuJt4Ht1qpMbuaqE367ONsqLfk1EeGDzKvztZvWgTaRPPLK3ix8ytjQjjnt7H/vujy2fok27Pptqtzj+vzy8LAPjJ17HLYRqaGY9Aq83vdBuRMBlsl3GUdSebtsVzXp5zUW3klGqRNHfXebGKs/majL7UxRSvltpG1Kf0NR+iRx1A0TO4G1ZB3vZKG3jkfVYUj0bp7PaYt1wdSajywG6VLnsZTnw1BQcUyzDZb643Jw5NF+ry2QZeWhPEu3AaAcuf/O4cg9OAiFAzrwKNLyrCx/qg2SGh9zXrMqzgO3JKPwntlksLvfG7GoPB/FqFAHPvy/z6177D4v0dRu7kM0544Kup8eah60Kp4pwW1giyoSUl/gsSH4OVKcnjEbVFeTMvt2faKqcybt0ePCl5GubF9j1cZoPBfnvXXtqBgrFhs81UHmt4bgvzv2fffC02NkC2+Z/74+/Ykh80QTAxNEnvAZWzc39i/gxBL18e/G1zQY6BvWLEtenzYEgfq8WTVMa26Ye+TDNp3KGM1RL/DdnyX9r4ri7NVXkxsE2LmcbSaUOujoi5pDkZslQlx7uDiNj/Uu6Kkir3Ljb79w2hLSl17EPmqC/9btvC9fTT+Tn/FhaiXPfYkym+Rt9svxqObG3DQqJfNWRBG7dAs/PIx5zgdEXT+p/gz/u9xc7whLzLnanXI5q1PY7HyufOW1eGjUBGenes+cOhg18fJDLXpavyB2tQCIHpLVK0pqdoUSiHvx602GQ0yr0FrbuXS91brK+w1f7SSafHTpUImT2IG85HLpdxP3NYUTwQg5/x602dZQLgNDCQKnxqX8TLE58T8Rvm9Lr+j90QlXL0/ukZfrujyKreG8lqf5v/xlXBQBuWK7jfyN8csh07bVl63fKX0NXIqnliZKY4OdUT94cgteQknNv8MP7p0HBVPiIKmog5Nw7JRtXUrXrDdCHwIJjyyCccqpyMU0Qdd+qcXTmJsSRXeXD5OvJ+BDF8jSAX4zhvz8MJrq/DM97rx+oZqbZDQf9l7DplLV+HEq4usEf/9zudG/t99q1A1GWh6cZv4v9VYdxT4Uckq/K9XipAb4FZlA4NaYXOO2u9TkPjQg3IlKeQyOmKjLJeq5nu1e03AkQRyu7AQuIxyI9eXs7zJlS0y3dd3oPKsv7YFBRONxZZLbR8gjEnIHW+8oDmNur1yf/Ie2d809K778Qt5NfXQv6OuvwcCFdRWoTECHwPJJo8d53Eiu445xsDwOp60ZU3WeBmyTuh2fOtd2ZIzvpvSXU1yvWOU/Va3bvN41Ue18wHPOqP8HY7tqq2//kkOZC91bk+9lV1S6tqDhTkexrDh9oGKnYZlYcX2KuyYOw7nDuzEfFEvW7zrU4yduwzHaldjtuN2+HKg+Uuyhex139LvDudJHwD0SFk2Lhmfa9b33n82D2PZKsPVN/4mGI89rVmzBqtXrzae6bKzs/Hmu2ZDNiIid7uet8cPGTva2tIndnS+Voyc50Zix2/WYjbPlgJxlh0sN3pJNhk2WkvISjYrodQT6R6T/WDsIUqtwRBXyJ1bvE3ltk/J3UyIiAayyFvlyJlXhrDZkMx0pQP1+yJA1t3IZiKDUsF2e2u1z3LEGKNJ6mGrFCIiIqKrCJMZRDToZdwVQu65UygrMceWkGNm7DTGuhiJ8n+aHqdPN1ES2bqEqONDKP3u4/XhJiIiIhokmMwgIsrQx6WwxpZYj/kbDuPcd/Kxv+4lrLjTa5BNomTzGkdCF78PNxEREdHgwWQGEZGUkYOip6vQ8NvXcf64mN55BXueXoBQMsYoIwpIDsgZextzjpNBREREZGIyg4iIiIiIiIjSCpMZRERERERERJRWmMwgIiIiIiIiorTCZAYRERERERERpRUmM4iIiIiIiIgorTCZQURERERERERphckMIiIiIiIiIkorTGYQERERERERUVphMoOIiIiIiIiI0gqTGURERERERESUVr7xN8F47GnNmjVYvXq18Uw3b9483H777cYzIiJvavxg7BhcuO2JBp7BcFwy9hClFo+5wUvd9tnZ2WhrazOe9b0eJzOIiIiIiIiIiKRUJzPYzYSIiIiIiIiI0gqTGURERERERESUVnx1M5H9nn7/+98bz4iIiIiIiIiI7AbcmBlERERERERERAMFu5kQERERERERUVphMoOIiIiIiIiI0gqTGURERERERESUVpjMICIiIiIiIqK0wmQGEREREREREaUVJjOIiIiIiIiIKK0wmUFEREREREREaYXJDCIiIiIiIiJKK0xmEBEREREREVFaYTKDiIiIiIiIiNIKkxlERERERERElFaYzCAiIiIiIiKitMJkBhERERERERGlFSYziIiIiIiIiCitMJlBRERERERERGkE+P8Bf36FQBQGeuoAAAAASUVORK5CYII=)"
      ],
      "metadata": {
        "id": "7B90_V1IxMOy"
      }
    },
    {
      "cell_type": "markdown",
      "source": [
        "**Informasi Atribut**\n",
        "\n",
        "1. X - koordinat spasial sumbu x dalam peta taman Montesinho : 1 sampai 9\n",
        "2. Y - koordinat spasial sumbu y dalam peta taman Montesinho : 2 sampai 9\n",
        "3. month - bulan dalam setahun : januari sampai desember\n",
        "4. day - hari dalam sepekan : senin sampai minggu\n",
        "5. FFMC - indeks FFMC (Fine Fuel Moisture Code) dari sistem FWI (Fire Weather Index) : 18,7 hingga 96,20\n",
        "6. DMC - indeks DMC (Duff Moisture Code) dari sistem FWI : 1,1 hingga 291,3\n",
        "7. DC - indeks DC (Drought Code) dari sistem FWI : 7,9 hingga 860,6\n",
        "8. ISI - indeks ISI (Initial Spread Index) dari sistem FWI : 0,0 hingga 56,10\n",
        "9. Temp - suhu (dalam derajat celcius) : 2,2 hingga 33,30\n",
        "10. RH - kelembaban relatif (dalam %) : 15,0 hingga 100\n",
        "11. Wind - kecepatan angin (dalam km/jam) : 0,40 hingga 9,40\n",
        "12. Rain - hujan luar (dalam mm/m2) : 0,0 hingga 6,4\n",
        "13. Area - areal hutan yang terbakar (dalam ha) : 0,00 hingga 1090,84"
      ],
      "metadata": {
        "id": "mRWuWw9SxlfN"
      }
    },
    {
      "cell_type": "markdown",
      "source": [
        "Tujuannya adalah untuk memprediksi areal kebakaran hutan yang terbakar di wilayah timur laut Portugal"
      ],
      "metadata": {
        "id": "bURw2tGn2KKw"
      }
    },
    {
      "cell_type": "code",
      "source": [
        "from google.colab import drive\n",
        "drive.mount('/content/drive')"
      ],
      "metadata": {
        "colab": {
          "base_uri": "https://localhost:8080/"
        },
        "id": "ph7hgRpJDSHd",
        "outputId": "36fead8d-8393-43a5-8563-096a616978f2"
      },
      "execution_count": null,
      "outputs": [
        {
          "output_type": "stream",
          "name": "stdout",
          "text": [
            "Drive already mounted at /content/drive; to attempt to forcibly remount, call drive.mount(\"/content/drive\", force_remount=True).\n"
          ]
        }
      ]
    },
    {
      "cell_type": "markdown",
      "source": [
        "**Import Library**"
      ],
      "metadata": {
        "id": "_zmK_F-DdXpf"
      }
    },
    {
      "cell_type": "code",
      "source": [
        "import numpy as np \n",
        "import pandas as pd \n",
        "import seaborn as sns\n",
        "import matplotlib.pyplot as plt\n",
        "from sklearn.preprocessing import LabelEncoder\n",
        "from sklearn import linear_model\n",
        "from sklearn.linear_model import LinearRegression\n",
        "from sklearn.tree import DecisionTreeRegressor\n",
        "import sklearn.metrics as met\n",
        "from sklearn.metrics import mean_absolute_error, mean_squared_error, r2_score\n"
      ],
      "metadata": {
        "id": "RmbVTPVl-RSN"
      },
      "execution_count": null,
      "outputs": []
    },
    {
      "cell_type": "markdown",
      "source": [
        "## **Data Understanding and Preparation**"
      ],
      "metadata": {
        "id": "28FIPj-Qa58a"
      }
    },
    {
      "cell_type": "markdown",
      "source": [
        "1. Memuat data ke dalam sebuah dataframe atau load dataset"
      ],
      "metadata": {
        "id": "XZVJPHa_Zg6P"
      }
    },
    {
      "cell_type": "code",
      "execution_count": null,
      "metadata": {
        "id": "hC8J3lUq39aY"
      },
      "outputs": [],
      "source": [
        "df = pd.read_csv(\"/content/drive/MyDrive/Tugas Kelompok ML/forestfires.csv\")\n"
      ]
    },
    {
      "cell_type": "markdown",
      "source": [
        "2. Menampilkan 5 baris pertama dataset"
      ],
      "metadata": {
        "id": "yiLyb_X638I9"
      }
    },
    {
      "cell_type": "code",
      "source": [
        "df.head()"
      ],
      "metadata": {
        "colab": {
          "base_uri": "https://localhost:8080/",
          "height": 206
        },
        "id": "CC5iUP4g4N6s",
        "outputId": "4c5bec59-2f56-4347-d29c-3324056b387b"
      },
      "execution_count": null,
      "outputs": [
        {
          "output_type": "execute_result",
          "data": {
            "text/plain": [
              "   X  Y month  day  FFMC   DMC     DC  ISI  temp  RH  wind  rain  area\n",
              "0  7  5   mar  fri  86.2  26.2   94.3  5.1   8.2  51   6.7   0.0   0.0\n",
              "1  7  4   oct  tue  90.6  35.4  669.1  6.7  18.0  33   0.9   0.0   0.0\n",
              "2  7  4   oct  sat  90.6  43.7  686.9  6.7  14.6  33   1.3   0.0   0.0\n",
              "3  8  6   mar  fri  91.7  33.3   77.5  9.0   8.3  97   4.0   0.2   0.0\n",
              "4  8  6   mar  sun  89.3  51.3  102.2  9.6  11.4  99   1.8   0.0   0.0"
            ],
            "text/html": [
              "\n",
              "  <div id=\"df-9f4a8968-371c-4b98-9b5a-b72a46377d9a\">\n",
              "    <div class=\"colab-df-container\">\n",
              "      <div>\n",
              "<style scoped>\n",
              "    .dataframe tbody tr th:only-of-type {\n",
              "        vertical-align: middle;\n",
              "    }\n",
              "\n",
              "    .dataframe tbody tr th {\n",
              "        vertical-align: top;\n",
              "    }\n",
              "\n",
              "    .dataframe thead th {\n",
              "        text-align: right;\n",
              "    }\n",
              "</style>\n",
              "<table border=\"1\" class=\"dataframe\">\n",
              "  <thead>\n",
              "    <tr style=\"text-align: right;\">\n",
              "      <th></th>\n",
              "      <th>X</th>\n",
              "      <th>Y</th>\n",
              "      <th>month</th>\n",
              "      <th>day</th>\n",
              "      <th>FFMC</th>\n",
              "      <th>DMC</th>\n",
              "      <th>DC</th>\n",
              "      <th>ISI</th>\n",
              "      <th>temp</th>\n",
              "      <th>RH</th>\n",
              "      <th>wind</th>\n",
              "      <th>rain</th>\n",
              "      <th>area</th>\n",
              "    </tr>\n",
              "  </thead>\n",
              "  <tbody>\n",
              "    <tr>\n",
              "      <th>0</th>\n",
              "      <td>7</td>\n",
              "      <td>5</td>\n",
              "      <td>mar</td>\n",
              "      <td>fri</td>\n",
              "      <td>86.2</td>\n",
              "      <td>26.2</td>\n",
              "      <td>94.3</td>\n",
              "      <td>5.1</td>\n",
              "      <td>8.2</td>\n",
              "      <td>51</td>\n",
              "      <td>6.7</td>\n",
              "      <td>0.0</td>\n",
              "      <td>0.0</td>\n",
              "    </tr>\n",
              "    <tr>\n",
              "      <th>1</th>\n",
              "      <td>7</td>\n",
              "      <td>4</td>\n",
              "      <td>oct</td>\n",
              "      <td>tue</td>\n",
              "      <td>90.6</td>\n",
              "      <td>35.4</td>\n",
              "      <td>669.1</td>\n",
              "      <td>6.7</td>\n",
              "      <td>18.0</td>\n",
              "      <td>33</td>\n",
              "      <td>0.9</td>\n",
              "      <td>0.0</td>\n",
              "      <td>0.0</td>\n",
              "    </tr>\n",
              "    <tr>\n",
              "      <th>2</th>\n",
              "      <td>7</td>\n",
              "      <td>4</td>\n",
              "      <td>oct</td>\n",
              "      <td>sat</td>\n",
              "      <td>90.6</td>\n",
              "      <td>43.7</td>\n",
              "      <td>686.9</td>\n",
              "      <td>6.7</td>\n",
              "      <td>14.6</td>\n",
              "      <td>33</td>\n",
              "      <td>1.3</td>\n",
              "      <td>0.0</td>\n",
              "      <td>0.0</td>\n",
              "    </tr>\n",
              "    <tr>\n",
              "      <th>3</th>\n",
              "      <td>8</td>\n",
              "      <td>6</td>\n",
              "      <td>mar</td>\n",
              "      <td>fri</td>\n",
              "      <td>91.7</td>\n",
              "      <td>33.3</td>\n",
              "      <td>77.5</td>\n",
              "      <td>9.0</td>\n",
              "      <td>8.3</td>\n",
              "      <td>97</td>\n",
              "      <td>4.0</td>\n",
              "      <td>0.2</td>\n",
              "      <td>0.0</td>\n",
              "    </tr>\n",
              "    <tr>\n",
              "      <th>4</th>\n",
              "      <td>8</td>\n",
              "      <td>6</td>\n",
              "      <td>mar</td>\n",
              "      <td>sun</td>\n",
              "      <td>89.3</td>\n",
              "      <td>51.3</td>\n",
              "      <td>102.2</td>\n",
              "      <td>9.6</td>\n",
              "      <td>11.4</td>\n",
              "      <td>99</td>\n",
              "      <td>1.8</td>\n",
              "      <td>0.0</td>\n",
              "      <td>0.0</td>\n",
              "    </tr>\n",
              "  </tbody>\n",
              "</table>\n",
              "</div>\n",
              "      <button class=\"colab-df-convert\" onclick=\"convertToInteractive('df-9f4a8968-371c-4b98-9b5a-b72a46377d9a')\"\n",
              "              title=\"Convert this dataframe to an interactive table.\"\n",
              "              style=\"display:none;\">\n",
              "        \n",
              "  <svg xmlns=\"http://www.w3.org/2000/svg\" height=\"24px\"viewBox=\"0 0 24 24\"\n",
              "       width=\"24px\">\n",
              "    <path d=\"M0 0h24v24H0V0z\" fill=\"none\"/>\n",
              "    <path d=\"M18.56 5.44l.94 2.06.94-2.06 2.06-.94-2.06-.94-.94-2.06-.94 2.06-2.06.94zm-11 1L8.5 8.5l.94-2.06 2.06-.94-2.06-.94L8.5 2.5l-.94 2.06-2.06.94zm10 10l.94 2.06.94-2.06 2.06-.94-2.06-.94-.94-2.06-.94 2.06-2.06.94z\"/><path d=\"M17.41 7.96l-1.37-1.37c-.4-.4-.92-.59-1.43-.59-.52 0-1.04.2-1.43.59L10.3 9.45l-7.72 7.72c-.78.78-.78 2.05 0 2.83L4 21.41c.39.39.9.59 1.41.59.51 0 1.02-.2 1.41-.59l7.78-7.78 2.81-2.81c.8-.78.8-2.07 0-2.86zM5.41 20L4 18.59l7.72-7.72 1.47 1.35L5.41 20z\"/>\n",
              "  </svg>\n",
              "      </button>\n",
              "      \n",
              "  <style>\n",
              "    .colab-df-container {\n",
              "      display:flex;\n",
              "      flex-wrap:wrap;\n",
              "      gap: 12px;\n",
              "    }\n",
              "\n",
              "    .colab-df-convert {\n",
              "      background-color: #E8F0FE;\n",
              "      border: none;\n",
              "      border-radius: 50%;\n",
              "      cursor: pointer;\n",
              "      display: none;\n",
              "      fill: #1967D2;\n",
              "      height: 32px;\n",
              "      padding: 0 0 0 0;\n",
              "      width: 32px;\n",
              "    }\n",
              "\n",
              "    .colab-df-convert:hover {\n",
              "      background-color: #E2EBFA;\n",
              "      box-shadow: 0px 1px 2px rgba(60, 64, 67, 0.3), 0px 1px 3px 1px rgba(60, 64, 67, 0.15);\n",
              "      fill: #174EA6;\n",
              "    }\n",
              "\n",
              "    [theme=dark] .colab-df-convert {\n",
              "      background-color: #3B4455;\n",
              "      fill: #D2E3FC;\n",
              "    }\n",
              "\n",
              "    [theme=dark] .colab-df-convert:hover {\n",
              "      background-color: #434B5C;\n",
              "      box-shadow: 0px 1px 3px 1px rgba(0, 0, 0, 0.15);\n",
              "      filter: drop-shadow(0px 1px 2px rgba(0, 0, 0, 0.3));\n",
              "      fill: #FFFFFF;\n",
              "    }\n",
              "  </style>\n",
              "\n",
              "      <script>\n",
              "        const buttonEl =\n",
              "          document.querySelector('#df-9f4a8968-371c-4b98-9b5a-b72a46377d9a button.colab-df-convert');\n",
              "        buttonEl.style.display =\n",
              "          google.colab.kernel.accessAllowed ? 'block' : 'none';\n",
              "\n",
              "        async function convertToInteractive(key) {\n",
              "          const element = document.querySelector('#df-9f4a8968-371c-4b98-9b5a-b72a46377d9a');\n",
              "          const dataTable =\n",
              "            await google.colab.kernel.invokeFunction('convertToInteractive',\n",
              "                                                     [key], {});\n",
              "          if (!dataTable) return;\n",
              "\n",
              "          const docLinkHtml = 'Like what you see? Visit the ' +\n",
              "            '<a target=\"_blank\" href=https://colab.research.google.com/notebooks/data_table.ipynb>data table notebook</a>'\n",
              "            + ' to learn more about interactive tables.';\n",
              "          element.innerHTML = '';\n",
              "          dataTable['output_type'] = 'display_data';\n",
              "          await google.colab.output.renderOutput(dataTable, element);\n",
              "          const docLink = document.createElement('div');\n",
              "          docLink.innerHTML = docLinkHtml;\n",
              "          element.appendChild(docLink);\n",
              "        }\n",
              "      </script>\n",
              "    </div>\n",
              "  </div>\n",
              "  "
            ]
          },
          "metadata": {},
          "execution_count": 114
        }
      ]
    },
    {
      "cell_type": "markdown",
      "source": [
        "3. Encoding Categorical Data"
      ],
      "metadata": {
        "id": "Zwuo4QuC4gY3"
      }
    },
    {
      "cell_type": "code",
      "source": [
        "le = LabelEncoder()\n",
        "df['month'] = le.fit_transform(df['month'])\n",
        "df['day'] = le.fit_transform(df['day'])\n"
      ],
      "metadata": {
        "id": "GvVeDSPT4iKV"
      },
      "execution_count": null,
      "outputs": []
    },
    {
      "cell_type": "markdown",
      "source": [
        "4. Menampilkan 5 baris pertama dataset setelah dilakukan encoding data"
      ],
      "metadata": {
        "id": "4iA3lokC4wJK"
      }
    },
    {
      "cell_type": "code",
      "source": [
        "df.head()"
      ],
      "metadata": {
        "colab": {
          "base_uri": "https://localhost:8080/",
          "height": 206
        },
        "id": "Cnm3z-Cl45C5",
        "outputId": "2473d630-b074-4f67-c2df-c41b65e0efa0"
      },
      "execution_count": null,
      "outputs": [
        {
          "output_type": "execute_result",
          "data": {
            "text/plain": [
              "   X  Y  month  day  FFMC   DMC     DC  ISI  temp  RH  wind  rain  area\n",
              "0  7  5      7    0  86.2  26.2   94.3  5.1   8.2  51   6.7   0.0   0.0\n",
              "1  7  4     10    5  90.6  35.4  669.1  6.7  18.0  33   0.9   0.0   0.0\n",
              "2  7  4     10    2  90.6  43.7  686.9  6.7  14.6  33   1.3   0.0   0.0\n",
              "3  8  6      7    0  91.7  33.3   77.5  9.0   8.3  97   4.0   0.2   0.0\n",
              "4  8  6      7    3  89.3  51.3  102.2  9.6  11.4  99   1.8   0.0   0.0"
            ],
            "text/html": [
              "\n",
              "  <div id=\"df-b82b03ed-2ca1-4a29-bb51-9c33af2f22e8\">\n",
              "    <div class=\"colab-df-container\">\n",
              "      <div>\n",
              "<style scoped>\n",
              "    .dataframe tbody tr th:only-of-type {\n",
              "        vertical-align: middle;\n",
              "    }\n",
              "\n",
              "    .dataframe tbody tr th {\n",
              "        vertical-align: top;\n",
              "    }\n",
              "\n",
              "    .dataframe thead th {\n",
              "        text-align: right;\n",
              "    }\n",
              "</style>\n",
              "<table border=\"1\" class=\"dataframe\">\n",
              "  <thead>\n",
              "    <tr style=\"text-align: right;\">\n",
              "      <th></th>\n",
              "      <th>X</th>\n",
              "      <th>Y</th>\n",
              "      <th>month</th>\n",
              "      <th>day</th>\n",
              "      <th>FFMC</th>\n",
              "      <th>DMC</th>\n",
              "      <th>DC</th>\n",
              "      <th>ISI</th>\n",
              "      <th>temp</th>\n",
              "      <th>RH</th>\n",
              "      <th>wind</th>\n",
              "      <th>rain</th>\n",
              "      <th>area</th>\n",
              "    </tr>\n",
              "  </thead>\n",
              "  <tbody>\n",
              "    <tr>\n",
              "      <th>0</th>\n",
              "      <td>7</td>\n",
              "      <td>5</td>\n",
              "      <td>7</td>\n",
              "      <td>0</td>\n",
              "      <td>86.2</td>\n",
              "      <td>26.2</td>\n",
              "      <td>94.3</td>\n",
              "      <td>5.1</td>\n",
              "      <td>8.2</td>\n",
              "      <td>51</td>\n",
              "      <td>6.7</td>\n",
              "      <td>0.0</td>\n",
              "      <td>0.0</td>\n",
              "    </tr>\n",
              "    <tr>\n",
              "      <th>1</th>\n",
              "      <td>7</td>\n",
              "      <td>4</td>\n",
              "      <td>10</td>\n",
              "      <td>5</td>\n",
              "      <td>90.6</td>\n",
              "      <td>35.4</td>\n",
              "      <td>669.1</td>\n",
              "      <td>6.7</td>\n",
              "      <td>18.0</td>\n",
              "      <td>33</td>\n",
              "      <td>0.9</td>\n",
              "      <td>0.0</td>\n",
              "      <td>0.0</td>\n",
              "    </tr>\n",
              "    <tr>\n",
              "      <th>2</th>\n",
              "      <td>7</td>\n",
              "      <td>4</td>\n",
              "      <td>10</td>\n",
              "      <td>2</td>\n",
              "      <td>90.6</td>\n",
              "      <td>43.7</td>\n",
              "      <td>686.9</td>\n",
              "      <td>6.7</td>\n",
              "      <td>14.6</td>\n",
              "      <td>33</td>\n",
              "      <td>1.3</td>\n",
              "      <td>0.0</td>\n",
              "      <td>0.0</td>\n",
              "    </tr>\n",
              "    <tr>\n",
              "      <th>3</th>\n",
              "      <td>8</td>\n",
              "      <td>6</td>\n",
              "      <td>7</td>\n",
              "      <td>0</td>\n",
              "      <td>91.7</td>\n",
              "      <td>33.3</td>\n",
              "      <td>77.5</td>\n",
              "      <td>9.0</td>\n",
              "      <td>8.3</td>\n",
              "      <td>97</td>\n",
              "      <td>4.0</td>\n",
              "      <td>0.2</td>\n",
              "      <td>0.0</td>\n",
              "    </tr>\n",
              "    <tr>\n",
              "      <th>4</th>\n",
              "      <td>8</td>\n",
              "      <td>6</td>\n",
              "      <td>7</td>\n",
              "      <td>3</td>\n",
              "      <td>89.3</td>\n",
              "      <td>51.3</td>\n",
              "      <td>102.2</td>\n",
              "      <td>9.6</td>\n",
              "      <td>11.4</td>\n",
              "      <td>99</td>\n",
              "      <td>1.8</td>\n",
              "      <td>0.0</td>\n",
              "      <td>0.0</td>\n",
              "    </tr>\n",
              "  </tbody>\n",
              "</table>\n",
              "</div>\n",
              "      <button class=\"colab-df-convert\" onclick=\"convertToInteractive('df-b82b03ed-2ca1-4a29-bb51-9c33af2f22e8')\"\n",
              "              title=\"Convert this dataframe to an interactive table.\"\n",
              "              style=\"display:none;\">\n",
              "        \n",
              "  <svg xmlns=\"http://www.w3.org/2000/svg\" height=\"24px\"viewBox=\"0 0 24 24\"\n",
              "       width=\"24px\">\n",
              "    <path d=\"M0 0h24v24H0V0z\" fill=\"none\"/>\n",
              "    <path d=\"M18.56 5.44l.94 2.06.94-2.06 2.06-.94-2.06-.94-.94-2.06-.94 2.06-2.06.94zm-11 1L8.5 8.5l.94-2.06 2.06-.94-2.06-.94L8.5 2.5l-.94 2.06-2.06.94zm10 10l.94 2.06.94-2.06 2.06-.94-2.06-.94-.94-2.06-.94 2.06-2.06.94z\"/><path d=\"M17.41 7.96l-1.37-1.37c-.4-.4-.92-.59-1.43-.59-.52 0-1.04.2-1.43.59L10.3 9.45l-7.72 7.72c-.78.78-.78 2.05 0 2.83L4 21.41c.39.39.9.59 1.41.59.51 0 1.02-.2 1.41-.59l7.78-7.78 2.81-2.81c.8-.78.8-2.07 0-2.86zM5.41 20L4 18.59l7.72-7.72 1.47 1.35L5.41 20z\"/>\n",
              "  </svg>\n",
              "      </button>\n",
              "      \n",
              "  <style>\n",
              "    .colab-df-container {\n",
              "      display:flex;\n",
              "      flex-wrap:wrap;\n",
              "      gap: 12px;\n",
              "    }\n",
              "\n",
              "    .colab-df-convert {\n",
              "      background-color: #E8F0FE;\n",
              "      border: none;\n",
              "      border-radius: 50%;\n",
              "      cursor: pointer;\n",
              "      display: none;\n",
              "      fill: #1967D2;\n",
              "      height: 32px;\n",
              "      padding: 0 0 0 0;\n",
              "      width: 32px;\n",
              "    }\n",
              "\n",
              "    .colab-df-convert:hover {\n",
              "      background-color: #E2EBFA;\n",
              "      box-shadow: 0px 1px 2px rgba(60, 64, 67, 0.3), 0px 1px 3px 1px rgba(60, 64, 67, 0.15);\n",
              "      fill: #174EA6;\n",
              "    }\n",
              "\n",
              "    [theme=dark] .colab-df-convert {\n",
              "      background-color: #3B4455;\n",
              "      fill: #D2E3FC;\n",
              "    }\n",
              "\n",
              "    [theme=dark] .colab-df-convert:hover {\n",
              "      background-color: #434B5C;\n",
              "      box-shadow: 0px 1px 3px 1px rgba(0, 0, 0, 0.15);\n",
              "      filter: drop-shadow(0px 1px 2px rgba(0, 0, 0, 0.3));\n",
              "      fill: #FFFFFF;\n",
              "    }\n",
              "  </style>\n",
              "\n",
              "      <script>\n",
              "        const buttonEl =\n",
              "          document.querySelector('#df-b82b03ed-2ca1-4a29-bb51-9c33af2f22e8 button.colab-df-convert');\n",
              "        buttonEl.style.display =\n",
              "          google.colab.kernel.accessAllowed ? 'block' : 'none';\n",
              "\n",
              "        async function convertToInteractive(key) {\n",
              "          const element = document.querySelector('#df-b82b03ed-2ca1-4a29-bb51-9c33af2f22e8');\n",
              "          const dataTable =\n",
              "            await google.colab.kernel.invokeFunction('convertToInteractive',\n",
              "                                                     [key], {});\n",
              "          if (!dataTable) return;\n",
              "\n",
              "          const docLinkHtml = 'Like what you see? Visit the ' +\n",
              "            '<a target=\"_blank\" href=https://colab.research.google.com/notebooks/data_table.ipynb>data table notebook</a>'\n",
              "            + ' to learn more about interactive tables.';\n",
              "          element.innerHTML = '';\n",
              "          dataTable['output_type'] = 'display_data';\n",
              "          await google.colab.output.renderOutput(dataTable, element);\n",
              "          const docLink = document.createElement('div');\n",
              "          docLink.innerHTML = docLinkHtml;\n",
              "          element.appendChild(docLink);\n",
              "        }\n",
              "      </script>\n",
              "    </div>\n",
              "  </div>\n",
              "  "
            ]
          },
          "metadata": {},
          "execution_count": 117
        }
      ]
    },
    {
      "cell_type": "markdown",
      "source": [
        "5. Menampilakan deskripsi statistik data"
      ],
      "metadata": {
        "id": "YRDZD9kq4_R7"
      }
    },
    {
      "cell_type": "code",
      "source": [
        "df.describe()"
      ],
      "metadata": {
        "colab": {
          "base_uri": "https://localhost:8080/",
          "height": 300
        },
        "id": "Xn1zh2j85FcY",
        "outputId": "87c29c01-279e-44a8-93c2-0f73300c4aff"
      },
      "execution_count": null,
      "outputs": [
        {
          "output_type": "execute_result",
          "data": {
            "text/plain": [
              "                X           Y       month         day        FFMC         DMC  \\\n",
              "count  517.000000  517.000000  517.000000  517.000000  517.000000  517.000000   \n",
              "mean     4.669246    4.299807    5.758221    2.736944   90.644681  110.872340   \n",
              "std      2.313778    1.229900    4.373275    1.925061    5.520111   64.046482   \n",
              "min      1.000000    2.000000    0.000000    0.000000   18.700000    1.100000   \n",
              "25%      3.000000    4.000000    1.000000    1.000000   90.200000   68.600000   \n",
              "50%      4.000000    4.000000    6.000000    3.000000   91.600000  108.300000   \n",
              "75%      7.000000    5.000000   11.000000    4.000000   92.900000  142.400000   \n",
              "max      9.000000    9.000000   11.000000    6.000000   96.200000  291.300000   \n",
              "\n",
              "               DC         ISI        temp          RH        wind        rain  \\\n",
              "count  517.000000  517.000000  517.000000  517.000000  517.000000  517.000000   \n",
              "mean   547.940039    9.021663   18.889168   44.288201    4.017602    0.021663   \n",
              "std    248.066192    4.559477    5.806625   16.317469    1.791653    0.295959   \n",
              "min      7.900000    0.000000    2.200000   15.000000    0.400000    0.000000   \n",
              "25%    437.700000    6.500000   15.500000   33.000000    2.700000    0.000000   \n",
              "50%    664.200000    8.400000   19.300000   42.000000    4.000000    0.000000   \n",
              "75%    713.900000   10.800000   22.800000   53.000000    4.900000    0.000000   \n",
              "max    860.600000   56.100000   33.300000  100.000000    9.400000    6.400000   \n",
              "\n",
              "              area  \n",
              "count   517.000000  \n",
              "mean     12.847292  \n",
              "std      63.655818  \n",
              "min       0.000000  \n",
              "25%       0.000000  \n",
              "50%       0.520000  \n",
              "75%       6.570000  \n",
              "max    1090.840000  "
            ],
            "text/html": [
              "\n",
              "  <div id=\"df-302d7b25-0d79-460d-9d42-fb27d4ed839f\">\n",
              "    <div class=\"colab-df-container\">\n",
              "      <div>\n",
              "<style scoped>\n",
              "    .dataframe tbody tr th:only-of-type {\n",
              "        vertical-align: middle;\n",
              "    }\n",
              "\n",
              "    .dataframe tbody tr th {\n",
              "        vertical-align: top;\n",
              "    }\n",
              "\n",
              "    .dataframe thead th {\n",
              "        text-align: right;\n",
              "    }\n",
              "</style>\n",
              "<table border=\"1\" class=\"dataframe\">\n",
              "  <thead>\n",
              "    <tr style=\"text-align: right;\">\n",
              "      <th></th>\n",
              "      <th>X</th>\n",
              "      <th>Y</th>\n",
              "      <th>month</th>\n",
              "      <th>day</th>\n",
              "      <th>FFMC</th>\n",
              "      <th>DMC</th>\n",
              "      <th>DC</th>\n",
              "      <th>ISI</th>\n",
              "      <th>temp</th>\n",
              "      <th>RH</th>\n",
              "      <th>wind</th>\n",
              "      <th>rain</th>\n",
              "      <th>area</th>\n",
              "    </tr>\n",
              "  </thead>\n",
              "  <tbody>\n",
              "    <tr>\n",
              "      <th>count</th>\n",
              "      <td>517.000000</td>\n",
              "      <td>517.000000</td>\n",
              "      <td>517.000000</td>\n",
              "      <td>517.000000</td>\n",
              "      <td>517.000000</td>\n",
              "      <td>517.000000</td>\n",
              "      <td>517.000000</td>\n",
              "      <td>517.000000</td>\n",
              "      <td>517.000000</td>\n",
              "      <td>517.000000</td>\n",
              "      <td>517.000000</td>\n",
              "      <td>517.000000</td>\n",
              "      <td>517.000000</td>\n",
              "    </tr>\n",
              "    <tr>\n",
              "      <th>mean</th>\n",
              "      <td>4.669246</td>\n",
              "      <td>4.299807</td>\n",
              "      <td>5.758221</td>\n",
              "      <td>2.736944</td>\n",
              "      <td>90.644681</td>\n",
              "      <td>110.872340</td>\n",
              "      <td>547.940039</td>\n",
              "      <td>9.021663</td>\n",
              "      <td>18.889168</td>\n",
              "      <td>44.288201</td>\n",
              "      <td>4.017602</td>\n",
              "      <td>0.021663</td>\n",
              "      <td>12.847292</td>\n",
              "    </tr>\n",
              "    <tr>\n",
              "      <th>std</th>\n",
              "      <td>2.313778</td>\n",
              "      <td>1.229900</td>\n",
              "      <td>4.373275</td>\n",
              "      <td>1.925061</td>\n",
              "      <td>5.520111</td>\n",
              "      <td>64.046482</td>\n",
              "      <td>248.066192</td>\n",
              "      <td>4.559477</td>\n",
              "      <td>5.806625</td>\n",
              "      <td>16.317469</td>\n",
              "      <td>1.791653</td>\n",
              "      <td>0.295959</td>\n",
              "      <td>63.655818</td>\n",
              "    </tr>\n",
              "    <tr>\n",
              "      <th>min</th>\n",
              "      <td>1.000000</td>\n",
              "      <td>2.000000</td>\n",
              "      <td>0.000000</td>\n",
              "      <td>0.000000</td>\n",
              "      <td>18.700000</td>\n",
              "      <td>1.100000</td>\n",
              "      <td>7.900000</td>\n",
              "      <td>0.000000</td>\n",
              "      <td>2.200000</td>\n",
              "      <td>15.000000</td>\n",
              "      <td>0.400000</td>\n",
              "      <td>0.000000</td>\n",
              "      <td>0.000000</td>\n",
              "    </tr>\n",
              "    <tr>\n",
              "      <th>25%</th>\n",
              "      <td>3.000000</td>\n",
              "      <td>4.000000</td>\n",
              "      <td>1.000000</td>\n",
              "      <td>1.000000</td>\n",
              "      <td>90.200000</td>\n",
              "      <td>68.600000</td>\n",
              "      <td>437.700000</td>\n",
              "      <td>6.500000</td>\n",
              "      <td>15.500000</td>\n",
              "      <td>33.000000</td>\n",
              "      <td>2.700000</td>\n",
              "      <td>0.000000</td>\n",
              "      <td>0.000000</td>\n",
              "    </tr>\n",
              "    <tr>\n",
              "      <th>50%</th>\n",
              "      <td>4.000000</td>\n",
              "      <td>4.000000</td>\n",
              "      <td>6.000000</td>\n",
              "      <td>3.000000</td>\n",
              "      <td>91.600000</td>\n",
              "      <td>108.300000</td>\n",
              "      <td>664.200000</td>\n",
              "      <td>8.400000</td>\n",
              "      <td>19.300000</td>\n",
              "      <td>42.000000</td>\n",
              "      <td>4.000000</td>\n",
              "      <td>0.000000</td>\n",
              "      <td>0.520000</td>\n",
              "    </tr>\n",
              "    <tr>\n",
              "      <th>75%</th>\n",
              "      <td>7.000000</td>\n",
              "      <td>5.000000</td>\n",
              "      <td>11.000000</td>\n",
              "      <td>4.000000</td>\n",
              "      <td>92.900000</td>\n",
              "      <td>142.400000</td>\n",
              "      <td>713.900000</td>\n",
              "      <td>10.800000</td>\n",
              "      <td>22.800000</td>\n",
              "      <td>53.000000</td>\n",
              "      <td>4.900000</td>\n",
              "      <td>0.000000</td>\n",
              "      <td>6.570000</td>\n",
              "    </tr>\n",
              "    <tr>\n",
              "      <th>max</th>\n",
              "      <td>9.000000</td>\n",
              "      <td>9.000000</td>\n",
              "      <td>11.000000</td>\n",
              "      <td>6.000000</td>\n",
              "      <td>96.200000</td>\n",
              "      <td>291.300000</td>\n",
              "      <td>860.600000</td>\n",
              "      <td>56.100000</td>\n",
              "      <td>33.300000</td>\n",
              "      <td>100.000000</td>\n",
              "      <td>9.400000</td>\n",
              "      <td>6.400000</td>\n",
              "      <td>1090.840000</td>\n",
              "    </tr>\n",
              "  </tbody>\n",
              "</table>\n",
              "</div>\n",
              "      <button class=\"colab-df-convert\" onclick=\"convertToInteractive('df-302d7b25-0d79-460d-9d42-fb27d4ed839f')\"\n",
              "              title=\"Convert this dataframe to an interactive table.\"\n",
              "              style=\"display:none;\">\n",
              "        \n",
              "  <svg xmlns=\"http://www.w3.org/2000/svg\" height=\"24px\"viewBox=\"0 0 24 24\"\n",
              "       width=\"24px\">\n",
              "    <path d=\"M0 0h24v24H0V0z\" fill=\"none\"/>\n",
              "    <path d=\"M18.56 5.44l.94 2.06.94-2.06 2.06-.94-2.06-.94-.94-2.06-.94 2.06-2.06.94zm-11 1L8.5 8.5l.94-2.06 2.06-.94-2.06-.94L8.5 2.5l-.94 2.06-2.06.94zm10 10l.94 2.06.94-2.06 2.06-.94-2.06-.94-.94-2.06-.94 2.06-2.06.94z\"/><path d=\"M17.41 7.96l-1.37-1.37c-.4-.4-.92-.59-1.43-.59-.52 0-1.04.2-1.43.59L10.3 9.45l-7.72 7.72c-.78.78-.78 2.05 0 2.83L4 21.41c.39.39.9.59 1.41.59.51 0 1.02-.2 1.41-.59l7.78-7.78 2.81-2.81c.8-.78.8-2.07 0-2.86zM5.41 20L4 18.59l7.72-7.72 1.47 1.35L5.41 20z\"/>\n",
              "  </svg>\n",
              "      </button>\n",
              "      \n",
              "  <style>\n",
              "    .colab-df-container {\n",
              "      display:flex;\n",
              "      flex-wrap:wrap;\n",
              "      gap: 12px;\n",
              "    }\n",
              "\n",
              "    .colab-df-convert {\n",
              "      background-color: #E8F0FE;\n",
              "      border: none;\n",
              "      border-radius: 50%;\n",
              "      cursor: pointer;\n",
              "      display: none;\n",
              "      fill: #1967D2;\n",
              "      height: 32px;\n",
              "      padding: 0 0 0 0;\n",
              "      width: 32px;\n",
              "    }\n",
              "\n",
              "    .colab-df-convert:hover {\n",
              "      background-color: #E2EBFA;\n",
              "      box-shadow: 0px 1px 2px rgba(60, 64, 67, 0.3), 0px 1px 3px 1px rgba(60, 64, 67, 0.15);\n",
              "      fill: #174EA6;\n",
              "    }\n",
              "\n",
              "    [theme=dark] .colab-df-convert {\n",
              "      background-color: #3B4455;\n",
              "      fill: #D2E3FC;\n",
              "    }\n",
              "\n",
              "    [theme=dark] .colab-df-convert:hover {\n",
              "      background-color: #434B5C;\n",
              "      box-shadow: 0px 1px 3px 1px rgba(0, 0, 0, 0.15);\n",
              "      filter: drop-shadow(0px 1px 2px rgba(0, 0, 0, 0.3));\n",
              "      fill: #FFFFFF;\n",
              "    }\n",
              "  </style>\n",
              "\n",
              "      <script>\n",
              "        const buttonEl =\n",
              "          document.querySelector('#df-302d7b25-0d79-460d-9d42-fb27d4ed839f button.colab-df-convert');\n",
              "        buttonEl.style.display =\n",
              "          google.colab.kernel.accessAllowed ? 'block' : 'none';\n",
              "\n",
              "        async function convertToInteractive(key) {\n",
              "          const element = document.querySelector('#df-302d7b25-0d79-460d-9d42-fb27d4ed839f');\n",
              "          const dataTable =\n",
              "            await google.colab.kernel.invokeFunction('convertToInteractive',\n",
              "                                                     [key], {});\n",
              "          if (!dataTable) return;\n",
              "\n",
              "          const docLinkHtml = 'Like what you see? Visit the ' +\n",
              "            '<a target=\"_blank\" href=https://colab.research.google.com/notebooks/data_table.ipynb>data table notebook</a>'\n",
              "            + ' to learn more about interactive tables.';\n",
              "          element.innerHTML = '';\n",
              "          dataTable['output_type'] = 'display_data';\n",
              "          await google.colab.output.renderOutput(dataTable, element);\n",
              "          const docLink = document.createElement('div');\n",
              "          docLink.innerHTML = docLinkHtml;\n",
              "          element.appendChild(docLink);\n",
              "        }\n",
              "      </script>\n",
              "    </div>\n",
              "  </div>\n",
              "  "
            ]
          },
          "metadata": {},
          "execution_count": 118
        }
      ]
    },
    {
      "cell_type": "markdown",
      "source": [
        "6. Menampilkan jumlah kolom dan baris dari dataset"
      ],
      "metadata": {
        "id": "6iIxO4ok5J7u"
      }
    },
    {
      "cell_type": "code",
      "source": [
        "df.shape"
      ],
      "metadata": {
        "colab": {
          "base_uri": "https://localhost:8080/"
        },
        "id": "oSewPfNA5Qtg",
        "outputId": "e53bf18a-f054-4ba0-b688-2c4cac4b137d"
      },
      "execution_count": null,
      "outputs": [
        {
          "output_type": "execute_result",
          "data": {
            "text/plain": [
              "(517, 13)"
            ]
          },
          "metadata": {},
          "execution_count": 119
        }
      ]
    },
    {
      "cell_type": "markdown",
      "source": [
        "7. Menampilkan tipe dari setiap data di dataset"
      ],
      "metadata": {
        "id": "cBLgyIRC5Wd2"
      }
    },
    {
      "cell_type": "code",
      "source": [
        "df.dtypes"
      ],
      "metadata": {
        "colab": {
          "base_uri": "https://localhost:8080/"
        },
        "id": "FxW3DQUw5cJW",
        "outputId": "3fd551aa-8211-477a-8826-8f1b0381c968"
      },
      "execution_count": null,
      "outputs": [
        {
          "output_type": "execute_result",
          "data": {
            "text/plain": [
              "X          int64\n",
              "Y          int64\n",
              "month      int64\n",
              "day        int64\n",
              "FFMC     float64\n",
              "DMC      float64\n",
              "DC       float64\n",
              "ISI      float64\n",
              "temp     float64\n",
              "RH         int64\n",
              "wind     float64\n",
              "rain     float64\n",
              "area     float64\n",
              "dtype: object"
            ]
          },
          "metadata": {},
          "execution_count": 120
        }
      ]
    },
    {
      "cell_type": "markdown",
      "source": [
        "8. Melihat missing values"
      ],
      "metadata": {
        "id": "5L25vN4O5iEE"
      }
    },
    {
      "cell_type": "code",
      "source": [
        "df.isna().sum().sum()"
      ],
      "metadata": {
        "colab": {
          "base_uri": "https://localhost:8080/"
        },
        "id": "dfSxZYq_5kvd",
        "outputId": "70c501c6-ef03-4847-faf2-c5c280ab9a96"
      },
      "execution_count": null,
      "outputs": [
        {
          "output_type": "execute_result",
          "data": {
            "text/plain": [
              "0"
            ]
          },
          "metadata": {},
          "execution_count": 121
        }
      ]
    },
    {
      "cell_type": "markdown",
      "source": [
        "9. Melihat correlation dari setiap data"
      ],
      "metadata": {
        "id": "X-hTFjecbxrB"
      }
    },
    {
      "cell_type": "code",
      "source": [
        "df.corr(method='pearson')"
      ],
      "metadata": {
        "colab": {
          "base_uri": "https://localhost:8080/",
          "height": 457
        },
        "id": "PxEDGgv0b1NZ",
        "outputId": "5a82870a-a39e-4658-a328-02ce75fd157e"
      },
      "execution_count": null,
      "outputs": [
        {
          "output_type": "execute_result",
          "data": {
            "text/plain": [
              "              X         Y     month       day      FFMC       DMC        DC  \\\n",
              "X      1.000000  0.539548 -0.017303 -0.009129 -0.021039 -0.048384 -0.085916   \n",
              "Y      0.539548  1.000000 -0.062162  0.030100 -0.046308  0.007782 -0.101178   \n",
              "month -0.017303 -0.062162  1.000000 -0.150982 -0.007636 -0.173152  0.219439   \n",
              "day   -0.009129  0.030100 -0.150982  1.000000  0.074914  0.070218  0.058737   \n",
              "FFMC  -0.021039 -0.046308 -0.007636  0.074914  1.000000  0.382619  0.330512   \n",
              "DMC   -0.048384  0.007782 -0.173152  0.070218  0.382619  1.000000  0.682192   \n",
              "DC    -0.085916 -0.101178  0.219439  0.058737  0.330512  0.682192  1.000000   \n",
              "ISI    0.006210 -0.024488 -0.172087  0.117738  0.531805  0.305128  0.229154   \n",
              "temp  -0.051258 -0.024103 -0.073802  0.148672  0.431532  0.469594  0.496208   \n",
              "RH     0.085223  0.062221 -0.102057 -0.103389 -0.300995  0.073795 -0.039192   \n",
              "wind   0.018798 -0.020341 -0.141131 -0.034504 -0.028485 -0.105342 -0.203466   \n",
              "rain   0.065387  0.033234 -0.076800  0.052881  0.056702  0.074790  0.035861   \n",
              "area   0.063385  0.044873  0.031054  0.018916  0.040122  0.072994  0.049383   \n",
              "\n",
              "            ISI      temp        RH      wind      rain      area  \n",
              "X      0.006210 -0.051258  0.085223  0.018798  0.065387  0.063385  \n",
              "Y     -0.024488 -0.024103  0.062221 -0.020341  0.033234  0.044873  \n",
              "month -0.172087 -0.073802 -0.102057 -0.141131 -0.076800  0.031054  \n",
              "day    0.117738  0.148672 -0.103389 -0.034504  0.052881  0.018916  \n",
              "FFMC   0.531805  0.431532 -0.300995 -0.028485  0.056702  0.040122  \n",
              "DMC    0.305128  0.469594  0.073795 -0.105342  0.074790  0.072994  \n",
              "DC     0.229154  0.496208 -0.039192 -0.203466  0.035861  0.049383  \n",
              "ISI    1.000000  0.394287 -0.132517  0.106826  0.067668  0.008258  \n",
              "temp   0.394287  1.000000 -0.527390 -0.227116  0.069491  0.097844  \n",
              "RH    -0.132517 -0.527390  1.000000  0.069410  0.099751 -0.075519  \n",
              "wind   0.106826 -0.227116  0.069410  1.000000  0.061119  0.012317  \n",
              "rain   0.067668  0.069491  0.099751  0.061119  1.000000 -0.007366  \n",
              "area   0.008258  0.097844 -0.075519  0.012317 -0.007366  1.000000  "
            ],
            "text/html": [
              "\n",
              "  <div id=\"df-fd5748e2-2511-4eba-b509-c3eeb2e0ea39\">\n",
              "    <div class=\"colab-df-container\">\n",
              "      <div>\n",
              "<style scoped>\n",
              "    .dataframe tbody tr th:only-of-type {\n",
              "        vertical-align: middle;\n",
              "    }\n",
              "\n",
              "    .dataframe tbody tr th {\n",
              "        vertical-align: top;\n",
              "    }\n",
              "\n",
              "    .dataframe thead th {\n",
              "        text-align: right;\n",
              "    }\n",
              "</style>\n",
              "<table border=\"1\" class=\"dataframe\">\n",
              "  <thead>\n",
              "    <tr style=\"text-align: right;\">\n",
              "      <th></th>\n",
              "      <th>X</th>\n",
              "      <th>Y</th>\n",
              "      <th>month</th>\n",
              "      <th>day</th>\n",
              "      <th>FFMC</th>\n",
              "      <th>DMC</th>\n",
              "      <th>DC</th>\n",
              "      <th>ISI</th>\n",
              "      <th>temp</th>\n",
              "      <th>RH</th>\n",
              "      <th>wind</th>\n",
              "      <th>rain</th>\n",
              "      <th>area</th>\n",
              "    </tr>\n",
              "  </thead>\n",
              "  <tbody>\n",
              "    <tr>\n",
              "      <th>X</th>\n",
              "      <td>1.000000</td>\n",
              "      <td>0.539548</td>\n",
              "      <td>-0.017303</td>\n",
              "      <td>-0.009129</td>\n",
              "      <td>-0.021039</td>\n",
              "      <td>-0.048384</td>\n",
              "      <td>-0.085916</td>\n",
              "      <td>0.006210</td>\n",
              "      <td>-0.051258</td>\n",
              "      <td>0.085223</td>\n",
              "      <td>0.018798</td>\n",
              "      <td>0.065387</td>\n",
              "      <td>0.063385</td>\n",
              "    </tr>\n",
              "    <tr>\n",
              "      <th>Y</th>\n",
              "      <td>0.539548</td>\n",
              "      <td>1.000000</td>\n",
              "      <td>-0.062162</td>\n",
              "      <td>0.030100</td>\n",
              "      <td>-0.046308</td>\n",
              "      <td>0.007782</td>\n",
              "      <td>-0.101178</td>\n",
              "      <td>-0.024488</td>\n",
              "      <td>-0.024103</td>\n",
              "      <td>0.062221</td>\n",
              "      <td>-0.020341</td>\n",
              "      <td>0.033234</td>\n",
              "      <td>0.044873</td>\n",
              "    </tr>\n",
              "    <tr>\n",
              "      <th>month</th>\n",
              "      <td>-0.017303</td>\n",
              "      <td>-0.062162</td>\n",
              "      <td>1.000000</td>\n",
              "      <td>-0.150982</td>\n",
              "      <td>-0.007636</td>\n",
              "      <td>-0.173152</td>\n",
              "      <td>0.219439</td>\n",
              "      <td>-0.172087</td>\n",
              "      <td>-0.073802</td>\n",
              "      <td>-0.102057</td>\n",
              "      <td>-0.141131</td>\n",
              "      <td>-0.076800</td>\n",
              "      <td>0.031054</td>\n",
              "    </tr>\n",
              "    <tr>\n",
              "      <th>day</th>\n",
              "      <td>-0.009129</td>\n",
              "      <td>0.030100</td>\n",
              "      <td>-0.150982</td>\n",
              "      <td>1.000000</td>\n",
              "      <td>0.074914</td>\n",
              "      <td>0.070218</td>\n",
              "      <td>0.058737</td>\n",
              "      <td>0.117738</td>\n",
              "      <td>0.148672</td>\n",
              "      <td>-0.103389</td>\n",
              "      <td>-0.034504</td>\n",
              "      <td>0.052881</td>\n",
              "      <td>0.018916</td>\n",
              "    </tr>\n",
              "    <tr>\n",
              "      <th>FFMC</th>\n",
              "      <td>-0.021039</td>\n",
              "      <td>-0.046308</td>\n",
              "      <td>-0.007636</td>\n",
              "      <td>0.074914</td>\n",
              "      <td>1.000000</td>\n",
              "      <td>0.382619</td>\n",
              "      <td>0.330512</td>\n",
              "      <td>0.531805</td>\n",
              "      <td>0.431532</td>\n",
              "      <td>-0.300995</td>\n",
              "      <td>-0.028485</td>\n",
              "      <td>0.056702</td>\n",
              "      <td>0.040122</td>\n",
              "    </tr>\n",
              "    <tr>\n",
              "      <th>DMC</th>\n",
              "      <td>-0.048384</td>\n",
              "      <td>0.007782</td>\n",
              "      <td>-0.173152</td>\n",
              "      <td>0.070218</td>\n",
              "      <td>0.382619</td>\n",
              "      <td>1.000000</td>\n",
              "      <td>0.682192</td>\n",
              "      <td>0.305128</td>\n",
              "      <td>0.469594</td>\n",
              "      <td>0.073795</td>\n",
              "      <td>-0.105342</td>\n",
              "      <td>0.074790</td>\n",
              "      <td>0.072994</td>\n",
              "    </tr>\n",
              "    <tr>\n",
              "      <th>DC</th>\n",
              "      <td>-0.085916</td>\n",
              "      <td>-0.101178</td>\n",
              "      <td>0.219439</td>\n",
              "      <td>0.058737</td>\n",
              "      <td>0.330512</td>\n",
              "      <td>0.682192</td>\n",
              "      <td>1.000000</td>\n",
              "      <td>0.229154</td>\n",
              "      <td>0.496208</td>\n",
              "      <td>-0.039192</td>\n",
              "      <td>-0.203466</td>\n",
              "      <td>0.035861</td>\n",
              "      <td>0.049383</td>\n",
              "    </tr>\n",
              "    <tr>\n",
              "      <th>ISI</th>\n",
              "      <td>0.006210</td>\n",
              "      <td>-0.024488</td>\n",
              "      <td>-0.172087</td>\n",
              "      <td>0.117738</td>\n",
              "      <td>0.531805</td>\n",
              "      <td>0.305128</td>\n",
              "      <td>0.229154</td>\n",
              "      <td>1.000000</td>\n",
              "      <td>0.394287</td>\n",
              "      <td>-0.132517</td>\n",
              "      <td>0.106826</td>\n",
              "      <td>0.067668</td>\n",
              "      <td>0.008258</td>\n",
              "    </tr>\n",
              "    <tr>\n",
              "      <th>temp</th>\n",
              "      <td>-0.051258</td>\n",
              "      <td>-0.024103</td>\n",
              "      <td>-0.073802</td>\n",
              "      <td>0.148672</td>\n",
              "      <td>0.431532</td>\n",
              "      <td>0.469594</td>\n",
              "      <td>0.496208</td>\n",
              "      <td>0.394287</td>\n",
              "      <td>1.000000</td>\n",
              "      <td>-0.527390</td>\n",
              "      <td>-0.227116</td>\n",
              "      <td>0.069491</td>\n",
              "      <td>0.097844</td>\n",
              "    </tr>\n",
              "    <tr>\n",
              "      <th>RH</th>\n",
              "      <td>0.085223</td>\n",
              "      <td>0.062221</td>\n",
              "      <td>-0.102057</td>\n",
              "      <td>-0.103389</td>\n",
              "      <td>-0.300995</td>\n",
              "      <td>0.073795</td>\n",
              "      <td>-0.039192</td>\n",
              "      <td>-0.132517</td>\n",
              "      <td>-0.527390</td>\n",
              "      <td>1.000000</td>\n",
              "      <td>0.069410</td>\n",
              "      <td>0.099751</td>\n",
              "      <td>-0.075519</td>\n",
              "    </tr>\n",
              "    <tr>\n",
              "      <th>wind</th>\n",
              "      <td>0.018798</td>\n",
              "      <td>-0.020341</td>\n",
              "      <td>-0.141131</td>\n",
              "      <td>-0.034504</td>\n",
              "      <td>-0.028485</td>\n",
              "      <td>-0.105342</td>\n",
              "      <td>-0.203466</td>\n",
              "      <td>0.106826</td>\n",
              "      <td>-0.227116</td>\n",
              "      <td>0.069410</td>\n",
              "      <td>1.000000</td>\n",
              "      <td>0.061119</td>\n",
              "      <td>0.012317</td>\n",
              "    </tr>\n",
              "    <tr>\n",
              "      <th>rain</th>\n",
              "      <td>0.065387</td>\n",
              "      <td>0.033234</td>\n",
              "      <td>-0.076800</td>\n",
              "      <td>0.052881</td>\n",
              "      <td>0.056702</td>\n",
              "      <td>0.074790</td>\n",
              "      <td>0.035861</td>\n",
              "      <td>0.067668</td>\n",
              "      <td>0.069491</td>\n",
              "      <td>0.099751</td>\n",
              "      <td>0.061119</td>\n",
              "      <td>1.000000</td>\n",
              "      <td>-0.007366</td>\n",
              "    </tr>\n",
              "    <tr>\n",
              "      <th>area</th>\n",
              "      <td>0.063385</td>\n",
              "      <td>0.044873</td>\n",
              "      <td>0.031054</td>\n",
              "      <td>0.018916</td>\n",
              "      <td>0.040122</td>\n",
              "      <td>0.072994</td>\n",
              "      <td>0.049383</td>\n",
              "      <td>0.008258</td>\n",
              "      <td>0.097844</td>\n",
              "      <td>-0.075519</td>\n",
              "      <td>0.012317</td>\n",
              "      <td>-0.007366</td>\n",
              "      <td>1.000000</td>\n",
              "    </tr>\n",
              "  </tbody>\n",
              "</table>\n",
              "</div>\n",
              "      <button class=\"colab-df-convert\" onclick=\"convertToInteractive('df-fd5748e2-2511-4eba-b509-c3eeb2e0ea39')\"\n",
              "              title=\"Convert this dataframe to an interactive table.\"\n",
              "              style=\"display:none;\">\n",
              "        \n",
              "  <svg xmlns=\"http://www.w3.org/2000/svg\" height=\"24px\"viewBox=\"0 0 24 24\"\n",
              "       width=\"24px\">\n",
              "    <path d=\"M0 0h24v24H0V0z\" fill=\"none\"/>\n",
              "    <path d=\"M18.56 5.44l.94 2.06.94-2.06 2.06-.94-2.06-.94-.94-2.06-.94 2.06-2.06.94zm-11 1L8.5 8.5l.94-2.06 2.06-.94-2.06-.94L8.5 2.5l-.94 2.06-2.06.94zm10 10l.94 2.06.94-2.06 2.06-.94-2.06-.94-.94-2.06-.94 2.06-2.06.94z\"/><path d=\"M17.41 7.96l-1.37-1.37c-.4-.4-.92-.59-1.43-.59-.52 0-1.04.2-1.43.59L10.3 9.45l-7.72 7.72c-.78.78-.78 2.05 0 2.83L4 21.41c.39.39.9.59 1.41.59.51 0 1.02-.2 1.41-.59l7.78-7.78 2.81-2.81c.8-.78.8-2.07 0-2.86zM5.41 20L4 18.59l7.72-7.72 1.47 1.35L5.41 20z\"/>\n",
              "  </svg>\n",
              "      </button>\n",
              "      \n",
              "  <style>\n",
              "    .colab-df-container {\n",
              "      display:flex;\n",
              "      flex-wrap:wrap;\n",
              "      gap: 12px;\n",
              "    }\n",
              "\n",
              "    .colab-df-convert {\n",
              "      background-color: #E8F0FE;\n",
              "      border: none;\n",
              "      border-radius: 50%;\n",
              "      cursor: pointer;\n",
              "      display: none;\n",
              "      fill: #1967D2;\n",
              "      height: 32px;\n",
              "      padding: 0 0 0 0;\n",
              "      width: 32px;\n",
              "    }\n",
              "\n",
              "    .colab-df-convert:hover {\n",
              "      background-color: #E2EBFA;\n",
              "      box-shadow: 0px 1px 2px rgba(60, 64, 67, 0.3), 0px 1px 3px 1px rgba(60, 64, 67, 0.15);\n",
              "      fill: #174EA6;\n",
              "    }\n",
              "\n",
              "    [theme=dark] .colab-df-convert {\n",
              "      background-color: #3B4455;\n",
              "      fill: #D2E3FC;\n",
              "    }\n",
              "\n",
              "    [theme=dark] .colab-df-convert:hover {\n",
              "      background-color: #434B5C;\n",
              "      box-shadow: 0px 1px 3px 1px rgba(0, 0, 0, 0.15);\n",
              "      filter: drop-shadow(0px 1px 2px rgba(0, 0, 0, 0.3));\n",
              "      fill: #FFFFFF;\n",
              "    }\n",
              "  </style>\n",
              "\n",
              "      <script>\n",
              "        const buttonEl =\n",
              "          document.querySelector('#df-fd5748e2-2511-4eba-b509-c3eeb2e0ea39 button.colab-df-convert');\n",
              "        buttonEl.style.display =\n",
              "          google.colab.kernel.accessAllowed ? 'block' : 'none';\n",
              "\n",
              "        async function convertToInteractive(key) {\n",
              "          const element = document.querySelector('#df-fd5748e2-2511-4eba-b509-c3eeb2e0ea39');\n",
              "          const dataTable =\n",
              "            await google.colab.kernel.invokeFunction('convertToInteractive',\n",
              "                                                     [key], {});\n",
              "          if (!dataTable) return;\n",
              "\n",
              "          const docLinkHtml = 'Like what you see? Visit the ' +\n",
              "            '<a target=\"_blank\" href=https://colab.research.google.com/notebooks/data_table.ipynb>data table notebook</a>'\n",
              "            + ' to learn more about interactive tables.';\n",
              "          element.innerHTML = '';\n",
              "          dataTable['output_type'] = 'display_data';\n",
              "          await google.colab.output.renderOutput(dataTable, element);\n",
              "          const docLink = document.createElement('div');\n",
              "          docLink.innerHTML = docLinkHtml;\n",
              "          element.appendChild(docLink);\n",
              "        }\n",
              "      </script>\n",
              "    </div>\n",
              "  </div>\n",
              "  "
            ]
          },
          "metadata": {},
          "execution_count": 122
        }
      ]
    },
    {
      "cell_type": "markdown",
      "source": [
        "10. Menampilkan visualisasi dari correlation dalam heatmap correlation"
      ],
      "metadata": {
        "id": "JgqmS-_g5zwF"
      }
    },
    {
      "cell_type": "code",
      "source": [
        "plt.figure(figsize=(10,8))\n",
        "\n",
        "sns.heatmap(df.corr(),yticklabels=False,cmap=\"Set2\",annot=True)"
      ],
      "metadata": {
        "colab": {
          "base_uri": "https://localhost:8080/",
          "height": 505
        },
        "id": "SuTnu1Eqb327",
        "outputId": "36efe3b7-0370-472f-e30e-b5d5e716664b"
      },
      "execution_count": null,
      "outputs": [
        {
          "output_type": "execute_result",
          "data": {
            "text/plain": [
              "<matplotlib.axes._subplots.AxesSubplot at 0x7fa8e111e4d0>"
            ]
          },
          "metadata": {},
          "execution_count": 57
        },
        {
          "output_type": "display_data",
          "data": {
            "text/plain": [
              "<Figure size 720x576 with 2 Axes>"
            ],
            "image/png": "[encoded data removed]"
          },
          "metadata": {
            "needs_background": "light"
          }
        }
      ]
    },
    {
      "cell_type": "markdown",
      "source": [
        "'temp' memiliki korelasi tertinggi dengan area hutan yang terbakar (korelasi positif), diikuti dengan 'RH' dan korelasi terakhir adalah 'Rain'"
      ],
      "metadata": {
        "id": "phq7XVjk-u_Y"
      }
    },
    {
      "cell_type": "markdown",
      "source": [
        "11. Membagi data menjadi X dan Y"
      ],
      "metadata": {
        "id": "FqSkurJJCnT6"
      }
    },
    {
      "cell_type": "code",
      "source": [
        "X=df.drop('area', axis=1)\n",
        "y=df['area']\n"
      ],
      "metadata": {
        "id": "Jmacr4N0CvwW"
      },
      "execution_count": null,
      "outputs": []
    },
    {
      "cell_type": "markdown",
      "source": [
        "# **MODEL**"
      ],
      "metadata": {
        "id": "8Kb0SqKx-xWQ"
      }
    },
    {
      "cell_type": "markdown",
      "source": [
        "# ***Linear Regression***"
      ],
      "metadata": {
        "id": "-t6Lk8IdGRML"
      }
    },
    {
      "cell_type": "markdown",
      "source": [
        "1. Membuat model linear regression"
      ],
      "metadata": {
        "id": "Ybh-Hwh9GYg9"
      }
    },
    {
      "cell_type": "code",
      "source": [
        "model1 = LinearRegression()\n",
        "model1.fit(X, y)\n"
      ],
      "metadata": {
        "colab": {
          "base_uri": "https://localhost:8080/"
        },
        "id": "3Kt379zHGXK4",
        "outputId": "e4759f9a-e075-4ca5-d4dc-c67d4b2a78ea"
      },
      "execution_count": null,
      "outputs": [
        {
          "output_type": "execute_result",
          "data": {
            "text/plain": [
              "LinearRegression()"
            ]
          },
          "metadata": {},
          "execution_count": 144
        }
      ]
    },
    {
      "cell_type": "markdown",
      "source": [
        "2. Mengetahui nilai koefisien dan intercept"
      ],
      "metadata": {
        "id": "wiUrj8FpGck3"
      }
    },
    {
      "cell_type": "code",
      "source": [
        "print (model1.coef_)\n",
        "print (model1.intercept_)"
      ],
      "metadata": {
        "colab": {
          "base_uri": "https://localhost:8080/"
        },
        "id": "9AacMnRBGyuh",
        "outputId": "68cae31d-6852-4a31-aa8c-63b6bab2c306"
      },
      "execution_count": null,
      "outputs": [
        {
          "output_type": "stream",
          "name": "stdout",
          "text": [
            "[ 1.88124305  0.52679701  0.97328461  0.49952683 -0.10739595  0.10979519\n",
            " -0.01462744 -0.6108142   0.98013486 -0.18491854  1.78229487 -3.25170999]\n",
            "-11.500571898709369\n"
          ]
        }
      ]
    },
    {
      "cell_type": "markdown",
      "source": [
        "3. Menampilkan nilai koefisien dan intercept dalam tabel"
      ],
      "metadata": {
        "id": "S2CSkwYXG0i4"
      }
    },
    {
      "cell_type": "code",
      "source": [
        "coef_dict = {\n",
        "    \"features\" : X.columns,\n",
        "    \"coef_value\" : model1.coef_\n",
        "}\n",
        "coef = pd.DataFrame(coef_dict, columns= [\"features\", \"coef_value\"])\n",
        "coef"
      ],
      "metadata": {
        "colab": {
          "base_uri": "https://localhost:8080/",
          "height": 425
        },
        "id": "FUGui8rZG1Ps",
        "outputId": "5aad2ff6-eb3b-410c-9510-fe0cd38c6510"
      },
      "execution_count": null,
      "outputs": [
        {
          "output_type": "execute_result",
          "data": {
            "text/plain": [
              "   features  coef_value\n",
              "0         X    1.881243\n",
              "1         Y    0.526797\n",
              "2     month    0.973285\n",
              "3       day    0.499527\n",
              "4      FFMC   -0.107396\n",
              "5       DMC    0.109795\n",
              "6        DC   -0.014627\n",
              "7       ISI   -0.610814\n",
              "8      temp    0.980135\n",
              "9        RH   -0.184919\n",
              "10     wind    1.782295\n",
              "11     rain   -3.251710"
            ],
            "text/html": [
              "\n",
              "  <div id=\"df-ef6060be-d082-4476-8d12-d08c1767195a\">\n",
              "    <div class=\"colab-df-container\">\n",
              "      <div>\n",
              "<style scoped>\n",
              "    .dataframe tbody tr th:only-of-type {\n",
              "        vertical-align: middle;\n",
              "    }\n",
              "\n",
              "    .dataframe tbody tr th {\n",
              "        vertical-align: top;\n",
              "    }\n",
              "\n",
              "    .dataframe thead th {\n",
              "        text-align: right;\n",
              "    }\n",
              "</style>\n",
              "<table border=\"1\" class=\"dataframe\">\n",
              "  <thead>\n",
              "    <tr style=\"text-align: right;\">\n",
              "      <th></th>\n",
              "      <th>features</th>\n",
              "      <th>coef_value</th>\n",
              "    </tr>\n",
              "  </thead>\n",
              "  <tbody>\n",
              "    <tr>\n",
              "      <th>0</th>\n",
              "      <td>X</td>\n",
              "      <td>1.881243</td>\n",
              "    </tr>\n",
              "    <tr>\n",
              "      <th>1</th>\n",
              "      <td>Y</td>\n",
              "      <td>0.526797</td>\n",
              "    </tr>\n",
              "    <tr>\n",
              "      <th>2</th>\n",
              "      <td>month</td>\n",
              "      <td>0.973285</td>\n",
              "    </tr>\n",
              "    <tr>\n",
              "      <th>3</th>\n",
              "      <td>day</td>\n",
              "      <td>0.499527</td>\n",
              "    </tr>\n",
              "    <tr>\n",
              "      <th>4</th>\n",
              "      <td>FFMC</td>\n",
              "      <td>-0.107396</td>\n",
              "    </tr>\n",
              "    <tr>\n",
              "      <th>5</th>\n",
              "      <td>DMC</td>\n",
              "      <td>0.109795</td>\n",
              "    </tr>\n",
              "    <tr>\n",
              "      <th>6</th>\n",
              "      <td>DC</td>\n",
              "      <td>-0.014627</td>\n",
              "    </tr>\n",
              "    <tr>\n",
              "      <th>7</th>\n",
              "      <td>ISI</td>\n",
              "      <td>-0.610814</td>\n",
              "    </tr>\n",
              "    <tr>\n",
              "      <th>8</th>\n",
              "      <td>temp</td>\n",
              "      <td>0.980135</td>\n",
              "    </tr>\n",
              "    <tr>\n",
              "      <th>9</th>\n",
              "      <td>RH</td>\n",
              "      <td>-0.184919</td>\n",
              "    </tr>\n",
              "    <tr>\n",
              "      <th>10</th>\n",
              "      <td>wind</td>\n",
              "      <td>1.782295</td>\n",
              "    </tr>\n",
              "    <tr>\n",
              "      <th>11</th>\n",
              "      <td>rain</td>\n",
              "      <td>-3.251710</td>\n",
              "    </tr>\n",
              "  </tbody>\n",
              "</table>\n",
              "</div>\n",
              "      <button class=\"colab-df-convert\" onclick=\"convertToInteractive('df-ef6060be-d082-4476-8d12-d08c1767195a')\"\n",
              "              title=\"Convert this dataframe to an interactive table.\"\n",
              "              style=\"display:none;\">\n",
              "        \n",
              "  <svg xmlns=\"http://www.w3.org/2000/svg\" height=\"24px\"viewBox=\"0 0 24 24\"\n",
              "       width=\"24px\">\n",
              "    <path d=\"M0 0h24v24H0V0z\" fill=\"none\"/>\n",
              "    <path d=\"M18.56 5.44l.94 2.06.94-2.06 2.06-.94-2.06-.94-.94-2.06-.94 2.06-2.06.94zm-11 1L8.5 8.5l.94-2.06 2.06-.94-2.06-.94L8.5 2.5l-.94 2.06-2.06.94zm10 10l.94 2.06.94-2.06 2.06-.94-2.06-.94-.94-2.06-.94 2.06-2.06.94z\"/><path d=\"M17.41 7.96l-1.37-1.37c-.4-.4-.92-.59-1.43-.59-.52 0-1.04.2-1.43.59L10.3 9.45l-7.72 7.72c-.78.78-.78 2.05 0 2.83L4 21.41c.39.39.9.59 1.41.59.51 0 1.02-.2 1.41-.59l7.78-7.78 2.81-2.81c.8-.78.8-2.07 0-2.86zM5.41 20L4 18.59l7.72-7.72 1.47 1.35L5.41 20z\"/>\n",
              "  </svg>\n",
              "      </button>\n",
              "      \n",
              "  <style>\n",
              "    .colab-df-container {\n",
              "      display:flex;\n",
              "      flex-wrap:wrap;\n",
              "      gap: 12px;\n",
              "    }\n",
              "\n",
              "    .colab-df-convert {\n",
              "      background-color: #E8F0FE;\n",
              "      border: none;\n",
              "      border-radius: 50%;\n",
              "      cursor: pointer;\n",
              "      display: none;\n",
              "      fill: #1967D2;\n",
              "      height: 32px;\n",
              "      padding: 0 0 0 0;\n",
              "      width: 32px;\n",
              "    }\n",
              "\n",
              "    .colab-df-convert:hover {\n",
              "      background-color: #E2EBFA;\n",
              "      box-shadow: 0px 1px 2px rgba(60, 64, 67, 0.3), 0px 1px 3px 1px rgba(60, 64, 67, 0.15);\n",
              "      fill: #174EA6;\n",
              "    }\n",
              "\n",
              "    [theme=dark] .colab-df-convert {\n",
              "      background-color: #3B4455;\n",
              "      fill: #D2E3FC;\n",
              "    }\n",
              "\n",
              "    [theme=dark] .colab-df-convert:hover {\n",
              "      background-color: #434B5C;\n",
              "      box-shadow: 0px 1px 3px 1px rgba(0, 0, 0, 0.15);\n",
              "      filter: drop-shadow(0px 1px 2px rgba(0, 0, 0, 0.3));\n",
              "      fill: #FFFFFF;\n",
              "    }\n",
              "  </style>\n",
              "\n",
              "      <script>\n",
              "        const buttonEl =\n",
              "          document.querySelector('#df-ef6060be-d082-4476-8d12-d08c1767195a button.colab-df-convert');\n",
              "        buttonEl.style.display =\n",
              "          google.colab.kernel.accessAllowed ? 'block' : 'none';\n",
              "\n",
              "        async function convertToInteractive(key) {\n",
              "          const element = document.querySelector('#df-ef6060be-d082-4476-8d12-d08c1767195a');\n",
              "          const dataTable =\n",
              "            await google.colab.kernel.invokeFunction('convertToInteractive',\n",
              "                                                     [key], {});\n",
              "          if (!dataTable) return;\n",
              "\n",
              "          const docLinkHtml = 'Like what you see? Visit the ' +\n",
              "            '<a target=\"_blank\" href=https://colab.research.google.com/notebooks/data_table.ipynb>data table notebook</a>'\n",
              "            + ' to learn more about interactive tables.';\n",
              "          element.innerHTML = '';\n",
              "          dataTable['output_type'] = 'display_data';\n",
              "          await google.colab.output.renderOutput(dataTable, element);\n",
              "          const docLink = document.createElement('div');\n",
              "          docLink.innerHTML = docLinkHtml;\n",
              "          element.appendChild(docLink);\n",
              "        }\n",
              "      </script>\n",
              "    </div>\n",
              "  </div>\n",
              "  "
            ]
          },
          "metadata": {},
          "execution_count": 146
        }
      ]
    },
    {
      "cell_type": "markdown",
      "source": [
        "4. Membuat prediksi"
      ],
      "metadata": {
        "id": "5RH7l7wsHDbK"
      }
    },
    {
      "cell_type": "code",
      "source": [
        "predictions = model1.predict(X)"
      ],
      "metadata": {
        "id": "s7YpsSCMHD4E"
      },
      "execution_count": null,
      "outputs": []
    },
    {
      "cell_type": "markdown",
      "source": [
        "5. Menampilkan nilai prediksi"
      ],
      "metadata": {
        "id": "hzGRWDfIHOqQ"
      }
    },
    {
      "cell_type": "code",
      "source": [
        "predictions"
      ],
      "metadata": {
        "colab": {
          "base_uri": "https://localhost:8080/"
        },
        "id": "Jpyy19YFHPOj",
        "outputId": "f291fa8e-c155-4fec-f556-7d96eaa4e045"
      },
      "execution_count": null,
      "outputs": [
        {
          "output_type": "execute_result",
          "data": {
            "text/plain": [
              "array([ 1.07873258e+01,  9.42698073e+00,  5.95979132e+00, -2.62297781e+00,\n",
              "       -2.20245629e-01,  1.85384926e+01,  1.97433962e+01, -5.25253014e+00,\n",
              "        2.07669922e+01,  2.32591531e+01,  2.20277184e+01,  8.86307538e+00,\n",
              "        9.41725947e+00,  2.04672348e+01,  3.49425289e+01,  2.36102595e+01,\n",
              "        1.59195137e+01,  1.57614345e+01,  1.65452174e+01,  1.09693433e+00,\n",
              "        2.04885436e+01,  1.02701857e+01, -5.16597678e+00,  1.80874365e+01,\n",
              "        1.75695444e+01,  1.12999334e+01,  2.29524949e+01,  1.72458480e+01,\n",
              "        3.34802950e+01,  2.58692552e+01,  1.83246608e+01,  8.51535771e+00,\n",
              "        1.28863782e+01,  1.33058815e+01,  1.47924262e+01,  1.35984062e+01,\n",
              "        1.87259680e+01,  2.70505881e+00,  1.44911333e+01,  8.17305948e+00,\n",
              "        1.88514231e+01,  8.69855023e+00, -6.28037411e-01,  1.01558637e+01,\n",
              "        4.40508375e+00,  2.22239552e+01,  9.96139241e+00,  1.32508596e+01,\n",
              "        3.55412525e+00,  9.80767276e+00,  1.95085431e+01,  6.95089134e+00,\n",
              "        9.42308800e+00,  9.42308800e+00,  5.10161054e+00,  2.60543123e+01,\n",
              "        9.97186554e+00, -2.40546788e+00,  2.80620678e+00, -1.12532473e+01,\n",
              "        4.70741329e+00, -3.98061922e+00,  3.72585337e+00,  3.05157980e+00,\n",
              "        5.88243624e+00,  3.58144621e+00,  1.35414861e+01,  1.25527671e+01,\n",
              "        1.41568325e+01,  1.27191589e+01,  1.59530048e+01,  5.66478931e+00,\n",
              "        1.58984385e+01,  1.26590948e+01,  2.10903038e+01, -8.15288114e-01,\n",
              "        1.43358887e+01, -8.62929570e+00, -1.37801847e+01,  1.55476965e+01,\n",
              "        7.58266733e+00, -4.59730572e+00, -6.41440064e+00, -8.52572283e+00,\n",
              "        1.47943501e+00,  1.31542335e+01,  1.70747203e+01,  1.28398859e+01,\n",
              "        1.89413357e+01,  1.95337566e+01,  4.61365382e+00,  2.39000520e+01,\n",
              "        1.82156136e+01,  1.83494945e+01,  2.05224720e+01,  5.27757088e+00,\n",
              "       -3.21301798e+00,  1.85019778e+01, -7.42853857e+00,  1.10887225e+01,\n",
              "        1.10887225e+01,  3.40515656e+00, -8.66404778e-01,  2.05975510e+01,\n",
              "       -1.47608846e+01,  9.89904600e+00,  1.33572130e+01,  9.69545581e+00,\n",
              "        1.26364287e+01,  1.20304609e+01,  1.11255033e+01,  1.33586829e+01,\n",
              "        1.70192438e+01,  6.86642829e+00,  1.96499872e+01,  1.75657604e+01,\n",
              "        9.24906834e+00,  1.08370966e+01,  5.16262677e+00,  4.05174904e+00,\n",
              "       -1.12390068e+01,  6.86172857e+00,  2.09192832e+01,  1.14142709e+01,\n",
              "        6.11922222e+00,  1.25250813e+01, -4.78060163e-01,  1.26609628e+01,\n",
              "        4.31434785e+00, -3.98049687e+00,  8.88564996e+00,  8.34132516e+00,\n",
              "        6.79647092e+00,  4.76146421e+00,  8.52731403e+00,  8.94175768e-01,\n",
              "        6.51205684e+00,  6.92955440e+00,  2.13460111e+01,  1.38934765e+01,\n",
              "        1.33721812e+01,  5.67091935e+00,  2.16905876e+01, -2.87645829e-01,\n",
              "        1.10417677e+01,  2.47260326e+01,  1.21194910e+01,  3.05033013e+01,\n",
              "       -3.08922397e-01,  2.39040871e+01,  1.89957502e+01,  2.76645940e+01,\n",
              "        7.43836671e+00,  9.83935696e+00,  2.39848372e+01, -2.19236809e+00,\n",
              "        2.34680009e+01,  3.01796210e-01,  5.97577678e+00,  2.29524949e+01,\n",
              "        1.66591939e+01,  1.37268259e+01,  2.30321251e+01,  1.69587570e+01,\n",
              "        1.43786499e+01,  1.74611943e+00,  2.46088348e+00,  1.64660569e+01,\n",
              "        2.19323784e+01,  1.49871550e+01,  2.07228263e+01,  1.34023304e+01,\n",
              "        1.89077352e+01,  1.32042218e+01, -1.18290941e+01,  2.26370216e+00,\n",
              "        2.45203300e-01,  1.02965114e+00,  7.01256438e+00,  1.38649658e+01,\n",
              "        2.21683576e+01,  1.98102679e+01,  7.45981998e-03,  8.68760878e+00,\n",
              "        1.75257733e+01,  1.24076807e+01,  1.81020597e+01,  1.07669791e+01,\n",
              "        5.29514161e+00,  9.77163039e+00,  8.17116518e+00,  1.06381343e+01,\n",
              "        6.71028920e+00,  2.74909380e+01,  6.71028920e+00,  8.87919245e+00,\n",
              "        2.45203300e-01,  2.03783537e+01,  1.34350304e+01,  1.78487347e+01,\n",
              "        1.52468527e+01,  8.14652196e+00, -1.64202614e+00,  1.85221415e+01,\n",
              "        8.51062093e+00,  1.90570477e+01,  9.00575857e+00,  2.49125155e+01,\n",
              "        2.32621958e+01,  2.23616280e+01,  8.72805372e+00, -1.24957505e+01,\n",
              "        1.36018431e+01,  1.49246049e+01,  1.44825824e+01,  1.44825824e+01,\n",
              "        6.67582832e+00, -1.10708636e+00,  1.89855923e+01,  1.47924635e+01,\n",
              "        7.84264175e+00,  9.09242993e+00,  9.28087574e+00,  1.45600990e+00,\n",
              "        1.49298473e+01,  2.50485629e+01,  7.82208250e+00,  1.48940782e+01,\n",
              "        3.05906954e+01,  8.71216496e+00,  3.06532458e+01,  2.37451833e+01,\n",
              "        2.03258419e+01,  3.06388591e+01,  1.68584323e+01,  2.16955857e+01,\n",
              "        5.80534995e+00,  9.62765431e+00,  2.91081447e+01, -2.44600684e+00,\n",
              "        4.12408491e+00,  7.31835456e+00, -6.33737634e+00,  1.51943206e+01,\n",
              "        1.30433349e+01,  1.98788847e+01,  2.07742385e+01, -3.46977158e+00,\n",
              "        2.77190626e+01,  4.08000861e+00,  2.65976829e+01,  2.18192014e+01,\n",
              "        1.69006879e+01,  1.44685034e+01,  1.31899104e+01,  4.18709342e+00,\n",
              "        1.59794412e+01,  4.76013258e+00, -4.82347802e-01,  1.51985601e+01,\n",
              "        8.76440803e+00, -5.10083474e+00,  2.76154950e+00,  1.26310307e+01,\n",
              "        6.51887608e+00,  1.10140281e+01,  3.45185401e+00,  9.60384764e+00,\n",
              "        8.41297229e+00,  3.83575184e+00,  1.82419817e+00,  1.56779910e+01,\n",
              "        5.10470566e+00, -3.45799633e+00,  5.23774183e+00, -6.97583079e+00,\n",
              "        3.26637300e+00,  1.38512995e+00,  3.26637300e+00,  3.26637300e+00,\n",
              "       -1.27157794e+01,  9.48907524e+00, -5.74550442e+00, -9.90686399e-01,\n",
              "        3.34442124e+00,  2.30389444e+01,  1.75660062e+01,  1.62122534e+01,\n",
              "        1.98100863e+01,  2.02779369e+01,  1.65663704e+00,  2.17522256e+01,\n",
              "        1.13852430e+01,  3.97933018e+01,  1.30572452e+01,  2.36283222e+01,\n",
              "        9.90537436e+00,  1.66974393e+01,  2.86978221e+01,  6.21488370e+00,\n",
              "        2.47529301e+01,  2.14870022e+01,  1.57718055e+01,  1.57718055e+01,\n",
              "        3.76504574e+00,  3.30149496e+00,  1.82451221e+01,  1.74074564e+01,\n",
              "        1.69959073e+00,  1.44642427e+01,  2.51536593e+01,  2.04665679e+01,\n",
              "        4.41597811e+00,  2.96652365e+01,  1.27533594e+01,  1.59898794e+01,\n",
              "        2.00627779e+01,  1.85199964e+01,  2.22818489e+01,  2.69962993e+01,\n",
              "        2.61989353e+01,  1.06674015e+01,  2.06004138e+01,  8.82664837e+00,\n",
              "        3.86506782e+00,  1.36514022e+01,  2.10783609e+01,  1.81153518e+01,\n",
              "        1.53774759e+01,  1.96863053e+01,  1.68870913e+01,  2.64348970e+01,\n",
              "        9.97535527e+00,  3.60760513e-01,  9.98585499e+00, -7.17717517e+00,\n",
              "        1.67841288e+01,  1.98517731e+01,  2.47156912e+01,  8.29789952e+00,\n",
              "        7.90471052e+00,  1.49507588e+01,  1.72005700e+01,  2.01601499e+01,\n",
              "        9.12991360e+00,  6.63176037e+00,  1.00900011e+01, -2.62139469e+00,\n",
              "        5.70370279e+00,  2.05907337e+00, -2.62139469e+00,  9.57248104e+00,\n",
              "        1.73499007e+01,  1.42220533e+01,  1.16980019e+01,  1.56985302e+01,\n",
              "        1.56985302e+01,  9.58258848e+00,  1.46617322e+01,  6.26335532e+00,\n",
              "        1.29952478e+01,  9.75439452e+00,  1.86107895e+00,  7.66969273e+00,\n",
              "        2.18021553e+01,  1.91956855e+01,  1.52717940e+01,  1.45878345e+01,\n",
              "        1.51740657e+01,  2.78531696e+01,  3.29701018e+01,  6.73460228e+00,\n",
              "       -3.17874540e+00,  1.54548461e+01,  2.10398015e+01,  1.19526915e+01,\n",
              "        2.07886043e+01,  1.26270166e+01,  7.64433298e+00, -1.21356555e+01,\n",
              "        1.94932123e+01,  1.67335130e+01,  2.87566260e+01,  2.83038379e+01,\n",
              "        3.19295315e+01,  8.46049829e+00,  1.10563936e+01,  8.44731870e+00,\n",
              "        2.20177753e+01,  2.38990183e+01,  1.23445034e+00,  1.90571749e+01,\n",
              "        2.89659076e+01,  1.28881690e+01, -8.88519729e+00, -6.39128703e+00,\n",
              "        1.13236653e+01,  2.41291080e+01,  1.81195638e+01,  2.85871742e+01,\n",
              "        2.85871742e+01,  1.40520944e+01,  3.31959471e+01,  2.74044740e+01,\n",
              "        1.40773116e+01,  2.04257822e+01,  3.47295717e+01,  4.34614770e+00,\n",
              "        3.03161810e+01,  1.33525158e+01,  5.08870948e+00,  1.02973703e+01,\n",
              "        2.60250754e+01,  3.21837095e+01,  2.30034625e+01,  3.59039671e+01,\n",
              "        2.70252326e+01,  1.70638089e+01,  2.08665657e+01,  1.86068116e+01,\n",
              "        3.58776383e+01,  2.56253058e+01,  4.77379722e+01,  8.31601426e+00,\n",
              "        3.54516541e+01,  1.24086247e+01,  2.58032710e+01,  1.89957583e+01,\n",
              "        2.01903350e+01,  1.82858823e+01,  3.89122401e+01,  1.14375520e+01,\n",
              "        3.35495084e+01,  1.28686706e+01,  1.79824772e+01,  8.48471802e+00,\n",
              "        2.82847599e+01,  1.49917907e+01,  1.70476638e+01,  1.84871928e+00,\n",
              "        2.74000099e+01,  2.90112432e+01, -2.28052205e+00, -5.86594920e+00,\n",
              "        2.22830778e+01,  3.49945512e-01,  1.23524900e+01,  7.97756672e+00,\n",
              "        2.37929278e+01,  1.90765900e+01,  1.87181002e+01, -1.00871358e+01,\n",
              "        1.87645615e+01,  1.86791368e+01,  1.34190416e+01,  4.00710821e+00,\n",
              "        1.00740980e+01,  1.09468922e+01,  2.38252467e+01,  2.54238193e+01,\n",
              "        1.20109914e+01,  2.38252467e+01,  2.25536564e+01, -5.67731320e-01,\n",
              "       -1.28393360e+00, -1.70290732e+01,  9.16318925e+00,  6.36470597e+00,\n",
              "        1.23195419e+01,  1.08874666e+01,  8.04879623e+00,  1.13723710e+01,\n",
              "        1.28750055e+01,  2.22216641e+01,  1.98378278e+01,  2.15214950e+01,\n",
              "        1.57673634e+01,  1.42461856e+01,  6.72280787e+00,  2.10907911e+01,\n",
              "        3.85909215e+01,  2.72915977e+01,  1.15121225e+01,  3.11119798e+01,\n",
              "        1.92306320e+01,  1.00145313e+01,  1.60099522e+01,  1.51163331e+01,\n",
              "        6.66133953e+00, -4.87488507e-01,  1.68867635e+01,  2.58385033e+01,\n",
              "        1.44971868e+01,  1.34239671e+01,  2.80334068e+01,  1.29956207e+01,\n",
              "        2.17962728e+01,  2.13184459e+01,  2.95451729e+01,  1.81372566e+00,\n",
              "        1.64747359e+01,  1.40666958e+01,  7.57505810e+00,  1.30056542e+01,\n",
              "        1.61322214e+01,  8.39889402e+00,  5.39689181e+00,  1.27688752e+01,\n",
              "        9.83403816e+00,  1.07371864e+01,  1.25984475e+01,  2.13351233e+01,\n",
              "        1.27845156e+01,  2.07932195e+00,  1.25884267e+01,  8.91248332e+00,\n",
              "        1.60366807e+01])"
            ]
          },
          "metadata": {},
          "execution_count": 148
        }
      ]
    },
    {
      "cell_type": "markdown",
      "source": [
        "Menampilkan nilai score dari model"
      ],
      "metadata": {
        "id": "jgvUBPhdHhNa"
      }
    },
    {
      "cell_type": "code",
      "source": [
        "print(\"r2_score:\",met.r2_score(y, predictions))\n",
        "print(\"MAE:\",mean_absolute_error(y, predictions))\n",
        "print(\"MSE:\",mean_squared_error(y, predictions))"
      ],
      "metadata": {
        "colab": {
          "base_uri": "https://localhost:8080/"
        },
        "id": "1GBSPFRMHhuV",
        "outputId": "b945e5d1-d11f-4d2b-eb8a-1757d835f672"
      },
      "execution_count": null,
      "outputs": [
        {
          "output_type": "stream",
          "name": "stdout",
          "text": [
            "r2_score: 0.024723817464122777\n",
            "MAE: 19.551706819989374\n",
            "MSE: 3944.2368833708115\n"
          ]
        }
      ]
    },
    {
      "cell_type": "markdown",
      "source": [
        "# ***Decision Tree***"
      ],
      "metadata": {
        "id": "lhoW5yrHEQdQ"
      }
    },
    {
      "cell_type": "markdown",
      "source": [
        "1. Membuat model decision tree"
      ],
      "metadata": {
        "id": "ydCvEFBZOycn"
      }
    },
    {
      "cell_type": "code",
      "source": [
        "model2 = DecisionTreeRegressor()\n",
        "model2.fit(X, y)"
      ],
      "metadata": {
        "colab": {
          "base_uri": "https://localhost:8080/"
        },
        "id": "Ab6NxQiUOy6j",
        "outputId": "b494d051-9bcb-43d0-c89d-02cb29bf4b7f"
      },
      "execution_count": null,
      "outputs": [
        {
          "output_type": "execute_result",
          "data": {
            "text/plain": [
              "DecisionTreeRegressor()"
            ]
          },
          "metadata": {},
          "execution_count": 151
        }
      ]
    },
    {
      "cell_type": "markdown",
      "source": [
        "2. Membuat prediksi"
      ],
      "metadata": {
        "id": "vy2mWlpHO68z"
      }
    },
    {
      "cell_type": "code",
      "source": [
        "pred = model2.predict(X)"
      ],
      "metadata": {
        "id": "xNdxXXzJPSFW"
      },
      "execution_count": null,
      "outputs": []
    },
    {
      "cell_type": "markdown",
      "source": [
        "3. Menampilkan nilai prediksi"
      ],
      "metadata": {
        "id": "rnHZlC3kPCN6"
      }
    },
    {
      "cell_type": "code",
      "source": [
        "pred"
      ],
      "metadata": {
        "colab": {
          "base_uri": "https://localhost:8080/"
        },
        "id": "XFTxd7IpPVUv",
        "outputId": "c8f2fe68-0040-4753-8c0a-07fee60f252b"
      },
      "execution_count": null,
      "outputs": [
        {
          "output_type": "execute_result",
          "data": {
            "text/plain": [
              "array([0.00000e+00, 0.00000e+00, 0.00000e+00, 0.00000e+00, 0.00000e+00,\n",
              "       0.00000e+00, 0.00000e+00, 0.00000e+00, 0.00000e+00, 0.00000e+00,\n",
              "       0.00000e+00, 0.00000e+00, 0.00000e+00, 0.00000e+00, 0.00000e+00,\n",
              "       0.00000e+00, 0.00000e+00, 0.00000e+00, 0.00000e+00, 0.00000e+00,\n",
              "       0.00000e+00, 0.00000e+00, 0.00000e+00, 0.00000e+00, 0.00000e+00,\n",
              "       0.00000e+00, 8.45000e-01, 0.00000e+00, 0.00000e+00, 0.00000e+00,\n",
              "       0.00000e+00, 0.00000e+00, 0.00000e+00, 0.00000e+00, 0.00000e+00,\n",
              "       0.00000e+00, 0.00000e+00, 0.00000e+00, 0.00000e+00, 0.00000e+00,\n",
              "       0.00000e+00, 0.00000e+00, 0.00000e+00, 0.00000e+00, 0.00000e+00,\n",
              "       0.00000e+00, 0.00000e+00, 0.00000e+00, 0.00000e+00, 0.00000e+00,\n",
              "       0.00000e+00, 0.00000e+00, 0.00000e+00, 0.00000e+00, 0.00000e+00,\n",
              "       0.00000e+00, 0.00000e+00, 0.00000e+00, 0.00000e+00, 0.00000e+00,\n",
              "       0.00000e+00, 0.00000e+00, 0.00000e+00, 0.00000e+00, 0.00000e+00,\n",
              "       0.00000e+00, 0.00000e+00, 0.00000e+00, 0.00000e+00, 0.00000e+00,\n",
              "       0.00000e+00, 0.00000e+00, 0.00000e+00, 0.00000e+00, 0.00000e+00,\n",
              "       0.00000e+00, 0.00000e+00, 0.00000e+00, 0.00000e+00, 0.00000e+00,\n",
              "       0.00000e+00, 0.00000e+00, 0.00000e+00, 0.00000e+00, 0.00000e+00,\n",
              "       0.00000e+00, 0.00000e+00, 0.00000e+00, 0.00000e+00, 0.00000e+00,\n",
              "       0.00000e+00, 0.00000e+00, 0.00000e+00, 0.00000e+00, 0.00000e+00,\n",
              "       0.00000e+00, 0.00000e+00, 0.00000e+00, 0.00000e+00, 0.00000e+00,\n",
              "       0.00000e+00, 0.00000e+00, 0.00000e+00, 0.00000e+00, 0.00000e+00,\n",
              "       0.00000e+00, 0.00000e+00, 0.00000e+00, 0.00000e+00, 0.00000e+00,\n",
              "       0.00000e+00, 0.00000e+00, 0.00000e+00, 0.00000e+00, 0.00000e+00,\n",
              "       0.00000e+00, 0.00000e+00, 0.00000e+00, 0.00000e+00, 0.00000e+00,\n",
              "       0.00000e+00, 0.00000e+00, 0.00000e+00, 0.00000e+00, 0.00000e+00,\n",
              "       0.00000e+00, 0.00000e+00, 0.00000e+00, 0.00000e+00, 0.00000e+00,\n",
              "       0.00000e+00, 0.00000e+00, 0.00000e+00, 0.00000e+00, 0.00000e+00,\n",
              "       0.00000e+00, 0.00000e+00, 0.00000e+00, 3.60000e-01, 4.30000e-01,\n",
              "       4.70000e-01, 5.50000e-01, 6.10000e-01, 7.10000e-01, 7.70000e-01,\n",
              "       9.00000e-01, 9.50000e-01, 9.60000e-01, 1.07000e+00, 1.12000e+00,\n",
              "       1.19000e+00, 1.36000e+00, 1.43000e+00, 1.46000e+00, 1.46000e+00,\n",
              "       1.56000e+00, 1.61000e+00, 1.63000e+00, 1.64000e+00, 8.45000e-01,\n",
              "       1.75000e+00, 1.90000e+00, 1.94000e+00, 1.95000e+00, 2.01000e+00,\n",
              "       2.14000e+00, 2.29000e+00, 2.51000e+00, 2.53000e+00, 2.55000e+00,\n",
              "       2.57000e+00, 2.69000e+00, 2.74000e+00, 3.07000e+00, 3.50000e+00,\n",
              "       4.53000e+00, 7.77000e+00, 4.69000e+00, 4.88000e+00, 5.23000e+00,\n",
              "       5.33000e+00, 5.44000e+00, 6.38000e+00, 6.83000e+00, 6.96000e+00,\n",
              "       7.04000e+00, 7.19000e+00, 7.30000e+00, 7.40000e+00, 8.24000e+00,\n",
              "       8.31000e+00, 8.68000e+00, 9.36000e+00, 9.41000e+00, 9.36000e+00,\n",
              "       1.00200e+01, 7.77000e+00, 1.10600e+01, 1.12400e+01, 1.13200e+01,\n",
              "       1.15300e+01, 1.21000e+01, 1.30500e+01, 1.37000e+01, 1.39900e+01,\n",
              "       1.45700e+01, 1.54500e+01, 1.72000e+01, 1.92300e+01, 2.34100e+01,\n",
              "       2.42300e+01, 2.60000e+01, 2.61300e+01, 2.73500e+01, 2.86600e+01,\n",
              "       2.86600e+01, 2.94800e+01, 3.03200e+01, 3.17200e+01, 3.18600e+01,\n",
              "       3.20700e+01, 3.58800e+01, 3.68500e+01, 3.70200e+01, 3.77100e+01,\n",
              "       4.85500e+01, 4.93700e+01, 5.83000e+01, 6.41000e+01, 7.13000e+01,\n",
              "       8.84900e+01, 9.51800e+01, 1.03390e+02, 1.05660e+02, 1.54880e+02,\n",
              "       1.96480e+02, 2.00940e+02, 2.12880e+02, 1.09084e+03, 0.00000e+00,\n",
              "       0.00000e+00, 0.00000e+00, 1.01300e+01, 0.00000e+00, 2.87000e+00,\n",
              "       7.60000e-01, 9.00000e-02, 7.50000e-01, 0.00000e+00, 2.47000e+00,\n",
              "       6.80000e-01, 2.40000e-01, 2.10000e-01, 1.52000e+00, 1.03400e+01,\n",
              "       0.00000e+00, 8.02000e+00, 6.80000e-01, 0.00000e+00, 1.38000e+00,\n",
              "       8.85000e+00, 3.30000e+00, 4.25000e+00, 1.56000e+00, 6.54000e+00,\n",
              "       7.90000e-01, 1.70000e-01, 0.00000e+00, 0.00000e+00, 4.40000e+00,\n",
              "       5.20000e-01, 9.27000e+00, 3.09000e+00, 8.98000e+00, 1.11900e+01,\n",
              "       5.38000e+00, 1.65500e+01, 1.07300e+01, 1.65500e+01, 1.65500e+01,\n",
              "       9.27000e+00, 2.47700e+01, 0.00000e+00, 1.10000e+00, 2.42400e+01,\n",
              "       0.00000e+00, 0.00000e+00, 0.00000e+00, 0.00000e+00, 0.00000e+00,\n",
              "       0.00000e+00, 8.00000e+00, 2.64000e+00, 8.64500e+01, 6.57000e+00,\n",
              "       0.00000e+00, 9.00000e-01, 0.00000e+00, 0.00000e+00, 0.00000e+00,\n",
              "       0.00000e+00, 3.52000e+00, 0.00000e+00, 0.00000e+00, 0.00000e+00,\n",
              "       0.00000e+00, 4.10000e-01, 5.18000e+00, 0.00000e+00, 0.00000e+00,\n",
              "       0.00000e+00, 1.42900e+01, 0.00000e+00, 0.00000e+00, 1.58000e+00,\n",
              "       0.00000e+00, 0.00000e+00, 3.78000e+00, 0.00000e+00, 4.41000e+00,\n",
              "       3.43600e+01, 7.21000e+00, 1.01000e+00, 2.18000e+00, 4.42000e+00,\n",
              "       0.00000e+00, 0.00000e+00, 0.00000e+00, 0.00000e+00, 3.33000e+00,\n",
              "       6.58000e+00, 1.56400e+01, 1.12200e+01, 2.13000e+00, 0.00000e+00,\n",
              "       0.00000e+00, 0.00000e+00, 5.60400e+01, 7.48000e+00, 1.47000e+00,\n",
              "       3.93000e+00, 0.00000e+00, 0.00000e+00, 2.18000e+00, 6.10000e+00,\n",
              "       5.83000e+00, 2.81900e+01, 1.85500e+00, 0.00000e+00, 1.64000e+00,\n",
              "       1.85500e+00, 7.31000e+00, 2.03000e+00, 1.72000e+00, 5.97000e+00,\n",
              "       7.16000e+00, 7.16000e+00, 0.00000e+00, 0.00000e+00, 8.12000e+00,\n",
              "       1.09000e+00, 3.94000e+00, 5.20000e-01, 2.93000e+00, 5.65000e+00,\n",
              "       2.00300e+01, 1.75000e+00, 0.00000e+00, 1.26400e+01, 0.00000e+00,\n",
              "       1.10600e+01, 0.00000e+00, 0.00000e+00, 0.00000e+00, 1.83000e+01,\n",
              "       3.93500e+01, 0.00000e+00, 1.74630e+02, 0.00000e+00, 0.00000e+00,\n",
              "       7.73000e+00, 1.63300e+01, 5.86000e+00, 4.28700e+01, 1.21800e+01,\n",
              "       1.60000e+01, 2.45900e+01, 0.00000e+00, 2.87400e+01, 0.00000e+00,\n",
              "       9.96000e+00, 3.01800e+01, 7.07600e+01, 0.00000e+00, 0.00000e+00,\n",
              "       5.17800e+01, 3.64000e+00, 3.63000e+00, 0.00000e+00, 4.08000e+00,\n",
              "       4.08000e+00, 4.95000e+00, 0.00000e+00, 0.00000e+00, 6.04000e+00,\n",
              "       0.00000e+00, 3.95000e+00, 0.00000e+00, 7.80000e+00, 0.00000e+00,\n",
              "       0.00000e+00, 4.62000e+00, 1.63000e+00, 0.00000e+00, 0.00000e+00,\n",
              "       7.46280e+02, 7.02000e+00, 0.00000e+00, 2.44000e+00, 3.05000e+00,\n",
              "       1.85760e+02, 0.00000e+00, 6.30000e+00, 7.20000e-01, 4.96000e+00,\n",
              "       0.00000e+00, 0.00000e+00, 2.35000e+00, 0.00000e+00, 3.20000e+00,\n",
              "       0.00000e+00, 6.36000e+00, 0.00000e+00, 1.53400e+01, 0.00000e+00,\n",
              "       0.00000e+00, 5.40000e-01, 0.00000e+00, 6.43000e+00, 3.30000e-01,\n",
              "       0.00000e+00, 1.23000e+00, 3.35000e+00, 0.00000e+00, 9.96000e+00,\n",
              "       0.00000e+00, 0.00000e+00, 0.00000e+00, 0.00000e+00, 0.00000e+00,\n",
              "       6.43000e+00, 9.71000e+00, 0.00000e+00, 0.00000e+00, 0.00000e+00,\n",
              "       0.00000e+00, 0.00000e+00, 8.27500e+01, 1.66000e+00, 1.94000e+00,\n",
              "       0.00000e+00, 1.66000e+00, 3.71000e+00, 5.39000e+00, 2.14000e+00,\n",
              "       6.84000e+00, 3.18000e+00, 5.55000e+00, 6.61000e+00, 6.11300e+01,\n",
              "       0.00000e+00, 3.84800e+01, 1.94000e+00, 7.03200e+01, 1.00800e+01,\n",
              "       3.19000e+00, 1.76000e+00, 7.36000e+00, 2.21000e+00, 2.78530e+02,\n",
              "       2.75000e+00, 0.00000e+00, 1.29000e+00, 0.00000e+00, 2.64300e+01,\n",
              "       2.07000e+00, 2.00000e+00, 1.64000e+01, 4.67000e+01, 0.00000e+00,\n",
              "       0.00000e+00, 0.00000e+00, 0.00000e+00, 4.33200e+01, 8.59000e+00,\n",
              "       0.00000e+00, 2.77000e+00, 1.46800e+01, 4.05400e+01, 1.08200e+01,\n",
              "       0.00000e+00, 0.00000e+00, 0.00000e+00, 1.95000e+00, 4.95900e+01,\n",
              "       5.80000e+00, 0.00000e+00, 0.00000e+00, 0.00000e+00, 2.17000e+00,\n",
              "       4.30000e-01, 0.00000e+00, 6.44000e+00, 5.42900e+01, 1.11600e+01,\n",
              "       0.00000e+00, 0.00000e+00])"
            ]
          },
          "metadata": {},
          "execution_count": 153
        }
      ]
    },
    {
      "cell_type": "markdown",
      "source": [
        "4. Menampilkan nilai score dari model"
      ],
      "metadata": {
        "id": "2uIYFUIYPGwN"
      }
    },
    {
      "cell_type": "code",
      "source": [
        "print(\"r2 Score:\", met.r2_score(y,pred))\n",
        "print(\"MAE:\",mean_absolute_error(y,pred))\n",
        "print(\"MSE:\",mean_squared_error(y,pred))"
      ],
      "metadata": {
        "colab": {
          "base_uri": "https://localhost:8080/"
        },
        "id": "tfWE3BqFPX50",
        "outputId": "9c870285-459d-4cba-94bf-d5e708623d22"
      },
      "execution_count": null,
      "outputs": [
        {
          "output_type": "stream",
          "name": "stdout",
          "text": [
            "r2 Score: 0.9998970573716115\n",
            "MAE: 0.09644100580270795\n",
            "MSE: 0.41632321083172147\n"
          ]
        }
      ]
    },
    {
      "cell_type": "markdown",
      "source": [
        "# **Perbandingan Model**"
      ],
      "metadata": {
        "id": "WiaBNJ8naMKX"
      }
    },
    {
      "cell_type": "markdown",
      "source": [
        "Setelah melakukan pembuatan model dan perhitungan maka,\n",
        "\n",
        "Model algoritma Linear Regression menghasilkan nilai akurasi Sebesar :\n",
        "\n",
        "*   r2 Score : 0.024723817464122777\n",
        "*   MAE : 19.551706819989374\n",
        "*   MSE : 3944.2368833708115\n",
        "\n",
        "Sedangkan nilai akurasi dari model algoritma Decision Tree  menghasilkan nilai akurasi sebesar :\n",
        "\n",
        "\n",
        "*   r2 Score : 0.9998970573716115\n",
        "*   MAE : 0.09644100180270795\n",
        "*   MSE : 0.41632321083172147\n",
        "\n",
        "Jadi, model yang bagus untuk dataset ini adalah menggunakan model algoritma decision tree.\n"
      ],
      "metadata": {
        "id": "WAQohLnVaUPO"
      }
    }
  ]
}